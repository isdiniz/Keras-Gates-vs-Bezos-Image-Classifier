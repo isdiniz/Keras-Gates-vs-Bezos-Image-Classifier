{
 "cells": [
  {
   "cell_type": "code",
   "execution_count": 1,
   "metadata": {
    "collapsed": false
   },
   "outputs": [
    {
     "name": "stderr",
     "output_type": "stream",
     "text": [
      "Using TensorFlow backend.\n"
     ]
    }
   ],
   "source": [
    "from keras import applications\n",
    "\n",
    "from keras.preprocessing.image import ImageDataGenerator\n",
    "\n",
    "from keras import optimizers\n",
    "from keras.models import Sequential, Model\n",
    "from keras.layers import (Dropout, Flatten, Dense, Conv2D, \n",
    "                          Activation, MaxPooling2D)\n",
    "\n",
    "from sklearn.cross_validation import train_test_split\n",
    "\n",
    "import os, glob\n",
    "import pandas as pd\n",
    "from sklearn.utils import shuffle\n",
    "import numpy as np\n",
    "import shutil"
   ]
  },
  {
   "cell_type": "code",
   "execution_count": 7,
   "metadata": {
    "collapsed": true
   },
   "outputs": [],
   "source": [
    "# dimensions of our images. label = bezos, gates 2 labels\n",
    "img_width, img_height = 150, 150\n",
    "\n",
    "train_data_dir = 'train_images/'\n",
    "validation_data_dir = 'valid_images'\n",
    "\n",
    "epochs = 50\n",
    "batch_size = 16"
   ]
  },
  {
   "cell_type": "code",
   "execution_count": 5,
   "metadata": {
    "collapsed": false
   },
   "outputs": [
    {
     "name": "stdout",
     "output_type": "stream",
     "text": [
      "Object `keras` not found.\n"
     ]
    }
   ],
   "source": [
    "# Find version of keras after 1.x MUCH diff from 2.x"
   ]
  },
  {
   "cell_type": "markdown",
   "metadata": {},
   "source": [
    "```bash\n",
    "Jeffreys-iMac:gates jeff$ mv `ls | head -50` /Users/jeff/experiments/valid_images/gates\n",
    "Jeffreys-iMac:gates jeff$ pwd\n",
    "/Users/jeff/experiments/train_images/gates\n",
    "\n",
    "Jeffreys-iMac:gates jeff$ ls /Users/jeff/experiments/valid_images/gates | wc -l\n",
    "      50```"
   ]
  },
  {
   "cell_type": "code",
   "execution_count": 4,
   "metadata": {
    "collapsed": false
   },
   "outputs": [],
   "source": [
    "model = Sequential()\n",
    "\n",
    "model.add(Conv2D(32, (3, 3), input_shape=(150, 150, 3)))\n",
    "model.add(Activation('relu')) #tanh\n",
    "model.add(MaxPooling2D(pool_size=(2, 2)))\n",
    "\n",
    "model.add(Conv2D(32, (3, 3)))\n",
    "model.add(Activation('relu'))\n",
    "model.add(MaxPooling2D(pool_size=(2, 2)))\n",
    "\n",
    "model.add(Conv2D(64, (3, 3)))\n",
    "model.add(Activation('relu'))\n",
    "model.add(MaxPooling2D(pool_size=(2, 2)))\n",
    "\n",
    "model.add(Flatten())\n",
    "model.add(Dense(64))\n",
    "model.add(Activation('relu'))\n",
    "model.add(Dropout(0.5))\n",
    "model.add(Dense(1)) # binary\n",
    "model.add(Activation('sigmoid'))\n",
    "\n",
    "model.compile(loss='binary_crossentropy',\n",
    "              optimizer='adam',\n",
    "              metrics=['accuracy'])\n",
    "# 10 types of ships: Dense(10) Activation 'softmax' loss categorical_crossentropy"
   ]
  },
  {
   "cell_type": "code",
   "execution_count": 8,
   "metadata": {
    "collapsed": false
   },
   "outputs": [
    {
     "name": "stdout",
     "output_type": "stream",
     "text": [
      "Found 1099 images belonging to 2 classes.\n",
      "Found 100 images belonging to 2 classes.\n"
     ]
    }
   ],
   "source": [
    "train_datagen = ImageDataGenerator(\n",
    "    rescale=1. / 255,\n",
    "    shear_range=0.2,\n",
    "    zoom_range=0.2,\n",
    "    horizontal_flip=False)\n",
    "\n",
    "# this is the augmentation configuration we will use for testing:\n",
    "# only rescaling\n",
    "test_datagen = ImageDataGenerator(rescale=1. / 255)\n",
    "\n",
    "train_generator = train_datagen.flow_from_directory(\n",
    "    train_data_dir,\n",
    "    target_size=(img_width, img_height),\n",
    "    batch_size=batch_size,\n",
    "    class_mode='binary')\n",
    "\n",
    "validation_generator = test_datagen.flow_from_directory(\n",
    "    validation_data_dir,\n",
    "    target_size=(img_width, img_height),\n",
    "    batch_size=batch_size,\n",
    "    class_mode='binary')\n",
    "\n",
    "# need not fit all yrou stuff in memory, like a bunch of numpy arrays or something\n",
    "# "
   ]
  },
  {
   "cell_type": "code",
   "execution_count": 9,
   "metadata": {
    "collapsed": false
   },
   "outputs": [
    {
     "name": "stdout",
     "output_type": "stream",
     "text": [
      "Epoch 1/20\n",
      "125/125 [==============================] - 59s - loss: 0.6876 - acc: 0.5523 - val_loss: 0.6686 - val_acc: 0.6250\n",
      "Epoch 2/20\n",
      "125/125 [==============================] - 60s - loss: 0.6641 - acc: 0.5940 - val_loss: 0.6644 - val_acc: 0.5714\n",
      "Epoch 3/20\n",
      "125/125 [==============================] - 58s - loss: 0.6242 - acc: 0.6617 - val_loss: 0.5984 - val_acc: 0.6667\n",
      "Epoch 4/20\n",
      "125/125 [==============================] - 58s - loss: 0.6033 - acc: 0.6881 - val_loss: 0.6223 - val_acc: 0.6429\n",
      "Epoch 5/20\n",
      "125/125 [==============================] - 57s - loss: 0.5651 - acc: 0.7051 - val_loss: 0.6720 - val_acc: 0.5833\n",
      "Epoch 6/20\n",
      "125/125 [==============================] - 60s - loss: 0.5151 - acc: 0.7430 - val_loss: 0.5892 - val_acc: 0.6667\n",
      "Epoch 7/20\n",
      "125/125 [==============================] - 58s - loss: 0.4898 - acc: 0.7681 - val_loss: 0.5837 - val_acc: 0.7024\n",
      "Epoch 8/20\n",
      "125/125 [==============================] - 47s - loss: 0.4395 - acc: 0.7985 - val_loss: 0.4994 - val_acc: 0.7500\n",
      "Epoch 9/20\n",
      "125/125 [==============================] - 47s - loss: 0.4022 - acc: 0.8067 - val_loss: 0.5927 - val_acc: 0.6548\n",
      "Epoch 10/20\n",
      "125/125 [==============================] - 49s - loss: 0.3629 - acc: 0.8476 - val_loss: 0.6700 - val_acc: 0.6548\n",
      "Epoch 11/20\n",
      "125/125 [==============================] - 53s - loss: 0.3356 - acc: 0.8628 - val_loss: 0.5819 - val_acc: 0.7500\n",
      "Epoch 12/20\n",
      "125/125 [==============================] - 53s - loss: 0.2942 - acc: 0.8786 - val_loss: 0.5473 - val_acc: 0.7857\n",
      "Epoch 13/20\n",
      "125/125 [==============================] - 53s - loss: 0.2578 - acc: 0.8885 - val_loss: 0.6243 - val_acc: 0.7262\n",
      "Epoch 14/20\n",
      "125/125 [==============================] - 52s - loss: 0.2423 - acc: 0.9010 - val_loss: 0.6542 - val_acc: 0.7262\n",
      "Epoch 15/20\n",
      "125/125 [==============================] - 52s - loss: 0.2344 - acc: 0.9098 - val_loss: 0.7357 - val_acc: 0.6905\n",
      "Epoch 16/20\n",
      "125/125 [==============================] - 53s - loss: 0.2188 - acc: 0.9125 - val_loss: 1.0188 - val_acc: 0.6667\n",
      "Epoch 17/20\n",
      "125/125 [==============================] - 53s - loss: 0.2195 - acc: 0.9129 - val_loss: 0.6101 - val_acc: 0.7381\n",
      "Epoch 18/20\n",
      "125/125 [==============================] - 53s - loss: 0.1766 - acc: 0.9320 - val_loss: 0.6203 - val_acc: 0.7976\n",
      "Epoch 19/20\n",
      "125/125 [==============================] - 53s - loss: 0.1881 - acc: 0.9283 - val_loss: 0.7163 - val_acc: 0.6429\n",
      "Epoch 20/20\n",
      "125/125 [==============================] - 53s - loss: 0.1868 - acc: 0.9268 - val_loss: 0.7488 - val_acc: 0.7619\n"
     ]
    },
    {
     "data": {
      "text/plain": [
       "<keras.callbacks.History at 0x11db8aef0>"
      ]
     },
     "execution_count": 9,
     "metadata": {},
     "output_type": "execute_result"
    }
   ],
   "source": [
    "model.fit_generator(\n",
    "    train_generator,\n",
    "    steps_per_epoch= 2000 // 16, # give me more data\n",
    "    epochs=20,\n",
    "    validation_data=validation_generator,\n",
    "    validation_steps=100 // 16)\n",
    "\n",
    "# bezoes, bezoes, bezoes = 50% of the time. \n",
    "# overfitting: get more data, augment eisting data.....\n",
    "# conv network: filters find attributes anywhere in the image, ignores \"where\" it found it -- anywhere"
   ]
  },
  {
   "cell_type": "code",
   "execution_count": 14,
   "metadata": {
    "collapsed": false
   },
   "outputs": [],
   "source": [
    "# use a pretrained net for features\n",
    "# Generate some features \n",
    "\n",
    "from keras.applications.vgg16 import VGG16\n",
    "from keras.preprocessing import image\n",
    "from keras.applications.vgg16 import preprocess_input"
   ]
  },
  {
   "cell_type": "code",
   "execution_count": 15,
   "metadata": {
    "collapsed": true
   },
   "outputs": [],
   "source": [
    "model = VGG16(weights='imagenet', include_top=False)"
   ]
  },
  {
   "cell_type": "code",
   "execution_count": 16,
   "metadata": {
    "collapsed": false
   },
   "outputs": [
    {
     "name": "stdout",
     "output_type": "stream",
     "text": [
      "_________________________________________________________________\n",
      "Layer (type)                 Output Shape              Param #   \n",
      "=================================================================\n",
      "input_1 (InputLayer)         (None, None, None, 3)     0         \n",
      "_________________________________________________________________\n",
      "block1_conv1 (Conv2D)        (None, None, None, 64)    1792      \n",
      "_________________________________________________________________\n",
      "block1_conv2 (Conv2D)        (None, None, None, 64)    36928     \n",
      "_________________________________________________________________\n",
      "block1_pool (MaxPooling2D)   (None, None, None, 64)    0         \n",
      "_________________________________________________________________\n",
      "block2_conv1 (Conv2D)        (None, None, None, 128)   73856     \n",
      "_________________________________________________________________\n",
      "block2_conv2 (Conv2D)        (None, None, None, 128)   147584    \n",
      "_________________________________________________________________\n",
      "block2_pool (MaxPooling2D)   (None, None, None, 128)   0         \n",
      "_________________________________________________________________\n",
      "block3_conv1 (Conv2D)        (None, None, None, 256)   295168    \n",
      "_________________________________________________________________\n",
      "block3_conv2 (Conv2D)        (None, None, None, 256)   590080    \n",
      "_________________________________________________________________\n",
      "block3_conv3 (Conv2D)        (None, None, None, 256)   590080    \n",
      "_________________________________________________________________\n",
      "block3_pool (MaxPooling2D)   (None, None, None, 256)   0         \n",
      "_________________________________________________________________\n",
      "block4_conv1 (Conv2D)        (None, None, None, 512)   1180160   \n",
      "_________________________________________________________________\n",
      "block4_conv2 (Conv2D)        (None, None, None, 512)   2359808   \n",
      "_________________________________________________________________\n",
      "block4_conv3 (Conv2D)        (None, None, None, 512)   2359808   \n",
      "_________________________________________________________________\n",
      "block4_pool (MaxPooling2D)   (None, None, None, 512)   0         \n",
      "_________________________________________________________________\n",
      "block5_conv1 (Conv2D)        (None, None, None, 512)   2359808   \n",
      "_________________________________________________________________\n",
      "block5_conv2 (Conv2D)        (None, None, None, 512)   2359808   \n",
      "_________________________________________________________________\n",
      "block5_conv3 (Conv2D)        (None, None, None, 512)   2359808   \n",
      "_________________________________________________________________\n",
      "block5_pool (MaxPooling2D)   (None, None, None, 512)   0         \n",
      "=================================================================\n",
      "Total params: 14,714,688.0\n",
      "Trainable params: 14,714,688.0\n",
      "Non-trainable params: 0.0\n",
      "_________________________________________________________________\n"
     ]
    }
   ],
   "source": [
    "model.summary()"
   ]
  },
  {
   "cell_type": "code",
   "execution_count": null,
   "metadata": {
    "collapsed": true
   },
   "outputs": [],
   "source": [
    "# Should be 512d vectors -- better than our 75% scratch convnet"
   ]
  }
 ],
 "metadata": {
  "kernelspec": {
   "display_name": "Python [conda root]",
   "language": "python",
   "name": "conda-root-py"
  },
  "language_info": {
   "codemirror_mode": {
    "name": "ipython",
    "version": 3
   },
   "file_extension": ".py",
   "mimetype": "text/x-python",
   "name": "python",
   "nbconvert_exporter": "python",
   "pygments_lexer": "ipython3",
   "version": "3.5.2"
  }
 },
 "nbformat": 4,
 "nbformat_minor": 1
}
