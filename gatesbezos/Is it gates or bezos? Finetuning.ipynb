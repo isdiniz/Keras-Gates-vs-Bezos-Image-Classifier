{
 "cells": [
  {
   "cell_type": "code",
   "execution_count": 12,
   "metadata": {
    "collapsed": false
   },
   "outputs": [],
   "source": [
    "from keras import applications\n",
    "\n",
    "from keras.preprocessing.image import ImageDataGenerator\n",
    "\n",
    "from keras import optimizers\n",
    "from keras.models import Sequential, Model\n",
    "from keras.layers import (Dropout, Flatten, Dense, Conv2D, \n",
    "                          Activation, MaxPooling2D)\n",
    "\n",
    "from keras.applications.inception_v3 import InceptionV3\n",
    "from keras.layers import GlobalAveragePooling2D\n",
    "from keras import backend as K\n",
    "\n",
    "from sklearn.cross_validation import train_test_split\n",
    "\n",
    "import os, glob\n",
    "from tqdm import tqdm\n",
    "import pandas as pd\n",
    "from sklearn.utils import shuffle\n",
    "import numpy as np\n",
    "import shutil"
   ]
  },
  {
   "cell_type": "code",
   "execution_count": 14,
   "metadata": {
    "collapsed": false
   },
   "outputs": [
    {
     "name": "stdout",
     "output_type": "stream",
     "text": [
      "Found 1139 images belonging to 2 classes.\n",
      "Found 284 images belonging to 2 classes.\n"
     ]
    }
   ],
   "source": [
    "train_datagen = ImageDataGenerator(\n",
    "    rescale=1. / 255,\n",
    "    shear_range=0.2,\n",
    "    zoom_range=0.2,\n",
    "    horizontal_flip=False)\n",
    "\n",
    "train_generator = train_datagen.flow_from_directory(\n",
    "    'more_train/',\n",
    "    target_size=(128, 128),\n",
    "    batch_size=16,\n",
    "    class_mode='binary')\n",
    "\n",
    "valid_datagen = ImageDataGenerator(rescale=1. / 255)\n",
    "\n",
    "validation_generator = valid_datagen.flow_from_directory(\n",
    "    'more_valid/',\n",
    "    target_size=(128, 128),\n",
    "    batch_size=16,\n",
    "    class_mode='binary')"
   ]
  },
  {
   "cell_type": "code",
   "execution_count": 20,
   "metadata": {
    "collapsed": false
   },
   "outputs": [],
   "source": [
    "# create the base pre-trained model\n",
    "base_model = InceptionV3(weights='imagenet', include_top=False)\n",
    "\n",
    "# add a global spatial average pooling layer\n",
    "x = base_model.output\n",
    "x = GlobalAveragePooling2D()(x)\n",
    "# let's add a fully-connected layer\n",
    "x = Dense(1024, activation='relu')(x)\n",
    "# and a logistic layer -- let's say we have 200 classes\n",
    "predictions = Dense(1, activation='sigmoid')(x)\n",
    "\n",
    "# this is the model we will train\n",
    "model = Model(inputs=base_model.input, outputs=predictions)\n",
    "\n",
    "# first: train only the top layers (which were randomly initialized)\n",
    "# i.e. freeze all convolutional InceptionV3 layers\n",
    "for layer in base_model.layers:\n",
    "    layer.trainable = False\n",
    "\n",
    "# compile the model (should be done *after* setting layers to non-trainable)\n",
    "model.compile(optimizer='rmsprop', loss='binary_crossentropy', metrics=['accuracy'])"
   ]
  },
  {
   "cell_type": "code",
   "execution_count": 21,
   "metadata": {
    "collapsed": false
   },
   "outputs": [
    {
     "name": "stdout",
     "output_type": "stream",
     "text": [
      "Epoch 1/5\n",
      "93/93 [==============================] - 72s - loss: 1.0942 - acc: 0.5489 - val_loss: 1.5759 - val_acc: 0.5106\n",
      "Epoch 2/5\n",
      "93/93 [==============================] - 69s - loss: 0.6874 - acc: 0.6031 - val_loss: 0.6681 - val_acc: 0.6549\n",
      "Epoch 3/5\n",
      "93/93 [==============================] - 70s - loss: 0.6631 - acc: 0.6387 - val_loss: 1.0329 - val_acc: 0.5141\n",
      "Epoch 4/5\n",
      "93/93 [==============================] - 69s - loss: 0.6684 - acc: 0.6346 - val_loss: 0.8738 - val_acc: 0.5634\n",
      "Epoch 5/5\n",
      "93/93 [==============================] - 69s - loss: 0.6515 - acc: 0.6441 - val_loss: 0.7151 - val_acc: 0.6268\n"
     ]
    },
    {
     "data": {
      "text/plain": [
       "<keras.callbacks.History at 0x11dcb3d68>"
      ]
     },
     "execution_count": 21,
     "metadata": {},
     "output_type": "execute_result"
    }
   ],
   "source": [
    "# train the model on the new data for a few epochs\n",
    "model.fit_generator(\n",
    "    train_generator,\n",
    "    steps_per_epoch= 1500 // 16, # give me more data\n",
    "    epochs=5,\n",
    "    validation_data=validation_generator,\n",
    "    validation_steps= 300 // 16)"
   ]
  },
  {
   "cell_type": "code",
   "execution_count": 22,
   "metadata": {
    "collapsed": false
   },
   "outputs": [
    {
     "name": "stdout",
     "output_type": "stream",
     "text": [
      "0 input_9\n",
      "1 conv2d_283\n",
      "2 batch_normalization_283\n",
      "3 activation_283\n",
      "4 conv2d_284\n",
      "5 batch_normalization_284\n",
      "6 activation_284\n",
      "7 conv2d_285\n",
      "8 batch_normalization_285\n",
      "9 activation_285\n",
      "10 max_pooling2d_13\n",
      "11 conv2d_286\n",
      "12 batch_normalization_286\n",
      "13 activation_286\n",
      "14 conv2d_287\n",
      "15 batch_normalization_287\n",
      "16 activation_287\n",
      "17 max_pooling2d_14\n",
      "18 conv2d_291\n",
      "19 batch_normalization_291\n",
      "20 activation_291\n",
      "21 conv2d_289\n",
      "22 conv2d_292\n",
      "23 batch_normalization_289\n",
      "24 batch_normalization_292\n",
      "25 activation_289\n",
      "26 activation_292\n",
      "27 average_pooling2d_28\n",
      "28 conv2d_288\n",
      "29 conv2d_290\n",
      "30 conv2d_293\n",
      "31 conv2d_294\n",
      "32 batch_normalization_288\n",
      "33 batch_normalization_290\n",
      "34 batch_normalization_293\n",
      "35 batch_normalization_294\n",
      "36 activation_288\n",
      "37 activation_290\n",
      "38 activation_293\n",
      "39 activation_294\n",
      "40 mixed0\n",
      "41 conv2d_298\n",
      "42 batch_normalization_298\n",
      "43 activation_298\n",
      "44 conv2d_296\n",
      "45 conv2d_299\n",
      "46 batch_normalization_296\n",
      "47 batch_normalization_299\n",
      "48 activation_296\n",
      "49 activation_299\n",
      "50 average_pooling2d_29\n",
      "51 conv2d_295\n",
      "52 conv2d_297\n",
      "53 conv2d_300\n",
      "54 conv2d_301\n",
      "55 batch_normalization_295\n",
      "56 batch_normalization_297\n",
      "57 batch_normalization_300\n",
      "58 batch_normalization_301\n",
      "59 activation_295\n",
      "60 activation_297\n",
      "61 activation_300\n",
      "62 activation_301\n",
      "63 mixed1\n",
      "64 conv2d_305\n",
      "65 batch_normalization_305\n",
      "66 activation_305\n",
      "67 conv2d_303\n",
      "68 conv2d_306\n",
      "69 batch_normalization_303\n",
      "70 batch_normalization_306\n",
      "71 activation_303\n",
      "72 activation_306\n",
      "73 average_pooling2d_30\n",
      "74 conv2d_302\n",
      "75 conv2d_304\n",
      "76 conv2d_307\n",
      "77 conv2d_308\n",
      "78 batch_normalization_302\n",
      "79 batch_normalization_304\n",
      "80 batch_normalization_307\n",
      "81 batch_normalization_308\n",
      "82 activation_302\n",
      "83 activation_304\n",
      "84 activation_307\n",
      "85 activation_308\n",
      "86 mixed2\n",
      "87 conv2d_310\n",
      "88 batch_normalization_310\n",
      "89 activation_310\n",
      "90 conv2d_311\n",
      "91 batch_normalization_311\n",
      "92 activation_311\n",
      "93 conv2d_309\n",
      "94 conv2d_312\n",
      "95 batch_normalization_309\n",
      "96 batch_normalization_312\n",
      "97 activation_309\n",
      "98 activation_312\n",
      "99 max_pooling2d_15\n",
      "100 mixed3\n",
      "101 conv2d_317\n",
      "102 batch_normalization_317\n",
      "103 activation_317\n",
      "104 conv2d_318\n",
      "105 batch_normalization_318\n",
      "106 activation_318\n",
      "107 conv2d_314\n",
      "108 conv2d_319\n",
      "109 batch_normalization_314\n",
      "110 batch_normalization_319\n",
      "111 activation_314\n",
      "112 activation_319\n",
      "113 conv2d_315\n",
      "114 conv2d_320\n",
      "115 batch_normalization_315\n",
      "116 batch_normalization_320\n",
      "117 activation_315\n",
      "118 activation_320\n",
      "119 average_pooling2d_31\n",
      "120 conv2d_313\n",
      "121 conv2d_316\n",
      "122 conv2d_321\n",
      "123 conv2d_322\n",
      "124 batch_normalization_313\n",
      "125 batch_normalization_316\n",
      "126 batch_normalization_321\n",
      "127 batch_normalization_322\n",
      "128 activation_313\n",
      "129 activation_316\n",
      "130 activation_321\n",
      "131 activation_322\n",
      "132 mixed4\n",
      "133 conv2d_327\n",
      "134 batch_normalization_327\n",
      "135 activation_327\n",
      "136 conv2d_328\n",
      "137 batch_normalization_328\n",
      "138 activation_328\n",
      "139 conv2d_324\n",
      "140 conv2d_329\n",
      "141 batch_normalization_324\n",
      "142 batch_normalization_329\n",
      "143 activation_324\n",
      "144 activation_329\n",
      "145 conv2d_325\n",
      "146 conv2d_330\n",
      "147 batch_normalization_325\n",
      "148 batch_normalization_330\n",
      "149 activation_325\n",
      "150 activation_330\n",
      "151 average_pooling2d_32\n",
      "152 conv2d_323\n",
      "153 conv2d_326\n",
      "154 conv2d_331\n",
      "155 conv2d_332\n",
      "156 batch_normalization_323\n",
      "157 batch_normalization_326\n",
      "158 batch_normalization_331\n",
      "159 batch_normalization_332\n",
      "160 activation_323\n",
      "161 activation_326\n",
      "162 activation_331\n",
      "163 activation_332\n",
      "164 mixed5\n",
      "165 conv2d_337\n",
      "166 batch_normalization_337\n",
      "167 activation_337\n",
      "168 conv2d_338\n",
      "169 batch_normalization_338\n",
      "170 activation_338\n",
      "171 conv2d_334\n",
      "172 conv2d_339\n",
      "173 batch_normalization_334\n",
      "174 batch_normalization_339\n",
      "175 activation_334\n",
      "176 activation_339\n",
      "177 conv2d_335\n",
      "178 conv2d_340\n",
      "179 batch_normalization_335\n",
      "180 batch_normalization_340\n",
      "181 activation_335\n",
      "182 activation_340\n",
      "183 average_pooling2d_33\n",
      "184 conv2d_333\n",
      "185 conv2d_336\n",
      "186 conv2d_341\n",
      "187 conv2d_342\n",
      "188 batch_normalization_333\n",
      "189 batch_normalization_336\n",
      "190 batch_normalization_341\n",
      "191 batch_normalization_342\n",
      "192 activation_333\n",
      "193 activation_336\n",
      "194 activation_341\n",
      "195 activation_342\n",
      "196 mixed6\n",
      "197 conv2d_347\n",
      "198 batch_normalization_347\n",
      "199 activation_347\n",
      "200 conv2d_348\n",
      "201 batch_normalization_348\n",
      "202 activation_348\n",
      "203 conv2d_344\n",
      "204 conv2d_349\n",
      "205 batch_normalization_344\n",
      "206 batch_normalization_349\n",
      "207 activation_344\n",
      "208 activation_349\n",
      "209 conv2d_345\n",
      "210 conv2d_350\n",
      "211 batch_normalization_345\n",
      "212 batch_normalization_350\n",
      "213 activation_345\n",
      "214 activation_350\n",
      "215 average_pooling2d_34\n",
      "216 conv2d_343\n",
      "217 conv2d_346\n",
      "218 conv2d_351\n",
      "219 conv2d_352\n",
      "220 batch_normalization_343\n",
      "221 batch_normalization_346\n",
      "222 batch_normalization_351\n",
      "223 batch_normalization_352\n",
      "224 activation_343\n",
      "225 activation_346\n",
      "226 activation_351\n",
      "227 activation_352\n",
      "228 mixed7\n",
      "229 conv2d_355\n",
      "230 batch_normalization_355\n",
      "231 activation_355\n",
      "232 conv2d_356\n",
      "233 batch_normalization_356\n",
      "234 activation_356\n",
      "235 conv2d_353\n",
      "236 conv2d_357\n",
      "237 batch_normalization_353\n",
      "238 batch_normalization_357\n",
      "239 activation_353\n",
      "240 activation_357\n",
      "241 conv2d_354\n",
      "242 conv2d_358\n",
      "243 batch_normalization_354\n",
      "244 batch_normalization_358\n",
      "245 activation_354\n",
      "246 activation_358\n",
      "247 max_pooling2d_16\n",
      "248 mixed8\n",
      "249 conv2d_363\n",
      "250 batch_normalization_363\n",
      "251 activation_363\n",
      "252 conv2d_360\n",
      "253 conv2d_364\n",
      "254 batch_normalization_360\n",
      "255 batch_normalization_364\n",
      "256 activation_360\n",
      "257 activation_364\n",
      "258 conv2d_361\n",
      "259 conv2d_362\n",
      "260 conv2d_365\n",
      "261 conv2d_366\n",
      "262 average_pooling2d_35\n",
      "263 conv2d_359\n",
      "264 batch_normalization_361\n",
      "265 batch_normalization_362\n",
      "266 batch_normalization_365\n",
      "267 batch_normalization_366\n",
      "268 conv2d_367\n",
      "269 batch_normalization_359\n",
      "270 activation_361\n",
      "271 activation_362\n",
      "272 activation_365\n",
      "273 activation_366\n",
      "274 batch_normalization_367\n",
      "275 activation_359\n",
      "276 mixed9_0\n",
      "277 concatenate_7\n",
      "278 activation_367\n",
      "279 mixed9\n",
      "280 conv2d_372\n",
      "281 batch_normalization_372\n",
      "282 activation_372\n",
      "283 conv2d_369\n",
      "284 conv2d_373\n",
      "285 batch_normalization_369\n",
      "286 batch_normalization_373\n",
      "287 activation_369\n",
      "288 activation_373\n",
      "289 conv2d_370\n",
      "290 conv2d_371\n",
      "291 conv2d_374\n",
      "292 conv2d_375\n",
      "293 average_pooling2d_36\n",
      "294 conv2d_368\n",
      "295 batch_normalization_370\n",
      "296 batch_normalization_371\n",
      "297 batch_normalization_374\n",
      "298 batch_normalization_375\n",
      "299 conv2d_376\n",
      "300 batch_normalization_368\n",
      "301 activation_370\n",
      "302 activation_371\n",
      "303 activation_374\n",
      "304 activation_375\n",
      "305 batch_normalization_376\n",
      "306 activation_368\n",
      "307 mixed9_1\n",
      "308 concatenate_8\n",
      "309 activation_376\n",
      "310 mixed10\n"
     ]
    }
   ],
   "source": [
    "# let's visualize layer names and layer indices to see how many layers\n",
    "# we should freeze:\n",
    "for i, layer in enumerate(base_model.layers):\n",
    "   print(i, layer.name)"
   ]
  },
  {
   "cell_type": "code",
   "execution_count": 23,
   "metadata": {
    "collapsed": false
   },
   "outputs": [],
   "source": [
    "for layer in model.layers[:249]:\n",
    "   layer.trainable = False\n",
    "for layer in model.layers[249:]:\n",
    "   layer.trainable = True"
   ]
  },
  {
   "cell_type": "code",
   "execution_count": 24,
   "metadata": {
    "collapsed": true
   },
   "outputs": [],
   "source": [
    "from keras.optimizers import SGD\n",
    "model.compile(optimizer=SGD(lr=0.0001, momentum=0.9), loss='binary_crossentropy', metrics=['accuracy'])"
   ]
  },
  {
   "cell_type": "code",
   "execution_count": 26,
   "metadata": {
    "collapsed": false
   },
   "outputs": [
    {
     "name": "stdout",
     "output_type": "stream",
     "text": [
      "Epoch 1/30\n",
      "93/93 [==============================] - 93s - loss: 0.5171 - acc: 0.7422 - val_loss: 0.6578 - val_acc: 0.6655\n",
      "Epoch 2/30\n",
      "93/93 [==============================] - 87s - loss: 0.4847 - acc: 0.7834 - val_loss: 0.6920 - val_acc: 0.6479\n",
      "Epoch 3/30\n",
      "93/93 [==============================] - 86s - loss: 0.4832 - acc: 0.7626 - val_loss: 0.6575 - val_acc: 0.6725\n",
      "Epoch 4/30\n",
      "93/93 [==============================] - 86s - loss: 0.4806 - acc: 0.7686 - val_loss: 0.6321 - val_acc: 0.7113\n",
      "Epoch 5/30\n",
      "93/93 [==============================] - 86s - loss: 0.4596 - acc: 0.7955 - val_loss: 0.6506 - val_acc: 0.6937\n",
      "Epoch 6/30\n",
      "93/93 [==============================] - 86s - loss: 0.4589 - acc: 0.7840 - val_loss: 0.5973 - val_acc: 0.7042\n",
      "Epoch 7/30\n",
      "93/93 [==============================] - 86s - loss: 0.4478 - acc: 0.8002 - val_loss: 0.6761 - val_acc: 0.6796\n",
      "Epoch 8/30\n",
      "93/93 [==============================] - 86s - loss: 0.4511 - acc: 0.7879 - val_loss: 0.6171 - val_acc: 0.7042\n",
      "Epoch 9/30\n",
      "93/93 [==============================] - 86s - loss: 0.4629 - acc: 0.7837 - val_loss: 0.6882 - val_acc: 0.6866\n",
      "Epoch 10/30\n",
      "93/93 [==============================] - 87s - loss: 0.4299 - acc: 0.8098 - val_loss: 0.6631 - val_acc: 0.6972\n",
      "Epoch 11/30\n",
      "93/93 [==============================] - 86s - loss: 0.4490 - acc: 0.7899 - val_loss: 0.6702 - val_acc: 0.6620\n",
      "Epoch 12/30\n",
      "93/93 [==============================] - 86s - loss: 0.4357 - acc: 0.7973 - val_loss: 0.6708 - val_acc: 0.6901\n",
      "Epoch 13/30\n",
      "93/93 [==============================] - 86s - loss: 0.4292 - acc: 0.7953 - val_loss: 0.6880 - val_acc: 0.7113\n",
      "Epoch 14/30\n",
      "93/93 [==============================] - 87s - loss: 0.4269 - acc: 0.7926 - val_loss: 0.6760 - val_acc: 0.6725\n",
      "Epoch 15/30\n",
      "93/93 [==============================] - 86s - loss: 0.4154 - acc: 0.8128 - val_loss: 0.6781 - val_acc: 0.6937\n",
      "Epoch 16/30\n",
      "93/93 [==============================] - 86s - loss: 0.4070 - acc: 0.8034 - val_loss: 0.6566 - val_acc: 0.7148\n",
      "Epoch 17/30\n",
      "93/93 [==============================] - 86s - loss: 0.3963 - acc: 0.8255 - val_loss: 0.7112 - val_acc: 0.6796\n",
      "Epoch 18/30\n",
      "93/93 [==============================] - 86s - loss: 0.4111 - acc: 0.8185 - val_loss: 0.6951 - val_acc: 0.6901\n",
      "Epoch 19/30\n",
      "93/93 [==============================] - 86s - loss: 0.3801 - acc: 0.8324 - val_loss: 0.6874 - val_acc: 0.6937\n",
      "Epoch 20/30\n",
      "93/93 [==============================] - 87s - loss: 0.3967 - acc: 0.8266 - val_loss: 0.7029 - val_acc: 0.6866\n",
      "Epoch 21/30\n",
      "93/93 [==============================] - 86s - loss: 0.3855 - acc: 0.8340 - val_loss: 0.7057 - val_acc: 0.6937\n",
      "Epoch 22/30\n",
      "93/93 [==============================] - 86s - loss: 0.3830 - acc: 0.8192 - val_loss: 0.7064 - val_acc: 0.6972\n",
      "Epoch 23/30\n",
      "93/93 [==============================] - 87s - loss: 0.3886 - acc: 0.8217 - val_loss: 0.7110 - val_acc: 0.6937\n",
      "Epoch 24/30\n",
      "93/93 [==============================] - 88s - loss: 0.3681 - acc: 0.8345 - val_loss: 0.8005 - val_acc: 0.6232\n",
      "Epoch 25/30\n",
      "93/93 [==============================] - 87s - loss: 0.3848 - acc: 0.8181 - val_loss: 0.6965 - val_acc: 0.6761\n",
      "Epoch 26/30\n",
      "93/93 [==============================] - 87s - loss: 0.3729 - acc: 0.8373 - val_loss: 0.7517 - val_acc: 0.6725\n",
      "Epoch 27/30\n",
      "93/93 [==============================] - 88s - loss: 0.3894 - acc: 0.8222 - val_loss: 0.7182 - val_acc: 0.6655\n",
      "Epoch 28/30\n",
      "93/93 [==============================] - 88s - loss: 0.3566 - acc: 0.8253 - val_loss: 0.7321 - val_acc: 0.6937\n",
      "Epoch 29/30\n",
      "93/93 [==============================] - 88s - loss: 0.3525 - acc: 0.8423 - val_loss: 0.7123 - val_acc: 0.6620\n",
      "Epoch 30/30\n",
      "93/93 [==============================] - 87s - loss: 0.3755 - acc: 0.8316 - val_loss: 0.7381 - val_acc: 0.6937\n"
     ]
    },
    {
     "data": {
      "text/plain": [
       "<keras.callbacks.History at 0x17f6ca780>"
      ]
     },
     "execution_count": 26,
     "metadata": {},
     "output_type": "execute_result"
    }
   ],
   "source": [
    "# train the model on the new data for a few epochs\n",
    "model.fit_generator(\n",
    "    train_generator,\n",
    "    steps_per_epoch= 1500 // 16, # give me more data\n",
    "    epochs=30,\n",
    "    validation_data=validation_generator,\n",
    "    validation_steps= 300 // 16)\n",
    "\n",
    "# get rid of bad images.....discuss importance of a benchmark to verify all is well\n",
    "# Then run on more image transormations once we have a smaller but good dataset"
   ]
  },
  {
   "cell_type": "markdown",
   "metadata": {},
   "source": [
    "```bash\n",
    "Jeffreys-iMac:gates jeff$ mv `ls | head -50` /Users/jeff/experiments/valid_images/gates\n",
    "Jeffreys-iMac:gates jeff$ pwd\n",
    "/Users/jeff/experiments/train_images/gates\n",
    "\n",
    "Jeffreys-iMac:gates jeff$ ls /Users/jeff/experiments/valid_images/gates | wc -l\n",
    "      50```"
   ]
  },
  {
   "cell_type": "code",
   "execution_count": null,
   "metadata": {
    "collapsed": false
   },
   "outputs": [],
   "source": [
    "model = Sequential()\n",
    "\n",
    "model.add(Conv2D(32, (3, 3), input_shape=(128, 128, 3)))\n",
    "model.add(Activation('relu')) #tanh\n",
    "model.add(MaxPooling2D(pool_size=(2, 2)))\n",
    "model.add(Dropout(0.5))\n",
    "\n",
    "model.add(Conv2D(32, (3, 3)))\n",
    "model.add(Activation('relu')) #tanh\n",
    "model.add(MaxPooling2D(pool_size=(2, 2)))\n",
    "model.add(Dropout(0.5))\n",
    "\n",
    "model.add(Conv2D(64, (3, 3)))\n",
    "model.add(Activation('relu'))\n",
    "model.add(MaxPooling2D(pool_size=(2, 2)))\n",
    "model.add(Dropout(0.5))\n",
    "\n",
    "model.add(Flatten())\n",
    "model.add(Dense(96))\n",
    "model.add(Activation('relu'))\n",
    "model.add(Dropout(0.5))\n",
    "model.add(Dense(1)) # binary\n",
    "model.add(Activation('sigmoid'))\n",
    "\n",
    "model.compile(loss='binary_crossentropy',\n",
    "              optimizer='adam',\n",
    "              metrics=['accuracy'])\n",
    "# 10 types of ships: Dense(10) Activation 'softmax' loss categorical_crossentropy"
   ]
  },
  {
   "cell_type": "code",
   "execution_count": null,
   "metadata": {
    "collapsed": false
   },
   "outputs": [],
   "source": [
    "train_datagen = ImageDataGenerator(\n",
    "    rescale=1. / 255,\n",
    "    shear_range=0.2,\n",
    "    zoom_range=0.2,\n",
    "    horizontal_flip=False)\n",
    "\n",
    "# this is the augmentation configuration we will use for testing:\n",
    "# only rescaling\n",
    "test_datagen = ImageDataGenerator(rescale=1. / 255)\n",
    "\n",
    "train_generator = train_datagen.flow_from_directory(\n",
    "    train_data_dir,\n",
    "    target_size=(img_width, img_height),\n",
    "    batch_size=batch_size,\n",
    "    class_mode='binary')\n",
    "\n",
    "validation_generator = test_datagen.flow_from_directory(\n",
    "    validation_data_dir,\n",
    "    target_size=(img_width, img_height),\n",
    "    batch_size=batch_size,\n",
    "    class_mode='binary')\n",
    "# need not fit all yrou stuff in memory, like a bunch of numpy arrays or something"
   ]
  },
  {
   "cell_type": "code",
   "execution_count": null,
   "metadata": {
    "collapsed": false
   },
   "outputs": [],
   "source": [
    "model.fit_generator(\n",
    "    train_generator,\n",
    "    steps_per_epoch= 1250 // 16, # give me more data\n",
    "    epochs=50,\n",
    "    validation_data=validation_generator,\n",
    "    validation_steps=100 // 16)\n",
    "\n",
    "# bezoes, bezoes, bezoes = 50% of the time. \n",
    "# overfitting: get more data, augment eisting data.....\n",
    "# conv network: filters find attributes anywhere in the image, ignores \"where\" it found it -- anywhere"
   ]
  },
  {
   "cell_type": "code",
   "execution_count": null,
   "metadata": {
    "collapsed": false
   },
   "outputs": [],
   "source": [
    "# use a pretrained net for features\n",
    "# Generate some features \"features\" --> \n",
    "\n",
    "from keras.applications.vgg16 import VGG16\n",
    "from keras.preprocessing import image\n",
    "from keras.applications.vgg16 import preprocess_input"
   ]
  },
  {
   "cell_type": "code",
   "execution_count": null,
   "metadata": {
    "collapsed": true
   },
   "outputs": [],
   "source": [
    "model = VGG16(weights='imagenet', include_top=False)"
   ]
  },
  {
   "cell_type": "code",
   "execution_count": null,
   "metadata": {
    "collapsed": false
   },
   "outputs": [],
   "source": [
    "model.summary()"
   ]
  },
  {
   "cell_type": "code",
   "execution_count": null,
   "metadata": {
    "collapsed": true
   },
   "outputs": [],
   "source": []
  },
  {
   "cell_type": "code",
   "execution_count": null,
   "metadata": {
    "collapsed": false
   },
   "outputs": [],
   "source": [
    "# Should be (x,x,x,512d) vectors -- better than our 80ish% scratch convnet\n",
    "# First, did we really randomize our data properly, or did our validation set give us a boost\n",
    "\n",
    "import time\n",
    "\n",
    "start = time.time()\n",
    "\n",
    "train_gen = train_datagen.flow_from_directory(\n",
    "        'train_images/',\n",
    "        target_size=(128, 128),\n",
    "        batch_size=1,\n",
    "        class_mode=None,  # only data, no labels -- we're not trying to predict anything here\n",
    "        shuffle=False)  # keep data in same order as labels\n",
    "\n",
    "valid_gen = train_datagen.flow_from_directory(\n",
    "        'valid_images/',\n",
    "        target_size=(128, 128),\n",
    "        batch_size=1,\n",
    "        class_mode=None,  # only data, no labels -- we're not trying to predict anything here\n",
    "        shuffle=False)  # keep data in same order as labels\n",
    "\n",
    "train_probs = model.predict_generator(train_gen, 1099, workers=3, verbose=1)\n",
    "valid_probs = model.predict_generator(valid_gen, 100, workers=3, verbose=1)\n",
    "\n",
    "end = time.time()\n",
    "\n",
    "print(end - start)"
   ]
  },
  {
   "cell_type": "code",
   "execution_count": null,
   "metadata": {
    "collapsed": false
   },
   "outputs": [],
   "source": [
    "# MLP: since the 4x4x512d vector arguably is not a sequence, like text, audio, time series data\n",
    "# And it doesn't have higher dimensional features which exhibit spatial invarince...\n",
    "# The problem almost falls into the domain of traditional ML algorithms\n",
    "# If we want to use deep learning to convert these 512d vectors to a prediction, we can use a DNN\n",
    "# aka a multilayer perceptron\n",
    "\n",
    "# idea of a generator -- imagine you had to fine the count of the word \"dogged\" in 100 billion lines of text\n",
    "# the file is almost taking up your entire hard driver. You can use a generator to avoid reading the entire\n",
    "# thing into RAM, just process one line at a time, and only keep track of a object to count \"dogged\", etc...\n",
    "print(train_probs.shape)\n",
    "print(valid_probs.shape)\n",
    "\n",
    "print(train_gen.classes.shape)\n",
    "print(valid_gen.classes.shape)\n",
    "\n",
    "train_probs[0].ravel().shape #PCA that down SVM"
   ]
  },
  {
   "cell_type": "code",
   "execution_count": null,
   "metadata": {
    "collapsed": false
   },
   "outputs": [],
   "source": [
    "bn_model = Sequential()\n",
    "bn_model.add(Flatten(input_shape=train_probs.shape[1:]))\n",
    "\n",
    "bn_model.add(Dense(128, activation='relu'))\n",
    "bn_model.add(Dropout(0.5))\n",
    "\n",
    "bn_model.add(Dense(256, activation='relu'))\n",
    "bn_model.add(Dropout(0.5))\n",
    "\n",
    "bn_model.add(Dense(512, activation='relu'))\n",
    "bn_model.add(Dropout(0.5))\n",
    "\n",
    "bn_model.add(Dense(1, activation='sigmoid'))\n",
    "\n",
    "bn_model.compile(optimizer='adam',\n",
    "              loss='binary_crossentropy', metrics=['accuracy'])\n",
    "\n",
    "bn_model.fit(train_probs, train_gen.classes,\n",
    "          epochs=50,\n",
    "          batch_size=16,\n",
    "          validation_data=(valid_probs, valid_gen.classes), shuffle=True)"
   ]
  },
  {
   "cell_type": "code",
   "execution_count": null,
   "metadata": {
    "collapsed": false
   },
   "outputs": [],
   "source": [
    "# Discussion -- since they are both white older males, \n",
    "# it's not clear that imagenet really picked up on any differences\n",
    "# They are white/caucasion, they are over 50, affulent, wear nice clothing, tank top all the time"
   ]
  },
  {
   "cell_type": "code",
   "execution_count": 107,
   "metadata": {
    "collapsed": false
   },
   "outputs": [
    {
     "data": {
      "text/plain": [
       "[('gates_1k', 783), ('bezos_1k', 712)]"
      ]
     },
     "execution_count": 107,
     "metadata": {},
     "output_type": "execute_result"
    }
   ],
   "source": [
    "# what if we add more data? 500 600, 2000 85%, 80 85%\n",
    "# fine tuning --> \n",
    "# python searcher.py \"bill gates\" --count 1000 --label gates_1k and the same for bezos\n",
    "\n",
    "from collections import Counter\n",
    "\n",
    "more_im = glob.glob(\"/Users/jeff/experiments/images/*/*.jpg\")\n",
    "more_im = shuffle(more_im)\n",
    "\n",
    "Counter([x.split(\"/\")[-2] for x in more_im]).most_common()"
   ]
  },
  {
   "cell_type": "code",
   "execution_count": null,
   "metadata": {
    "collapsed": false
   },
   "outputs": [],
   "source": [
    "# For the additional images we downloaded\n",
    "%mkdir more_train\n",
    "%mkdir more_valid\n",
    "\n",
    "%mkdir more_train/gates\n",
    "%mkdir more_train/bezos\n",
    "\n",
    "%mkdir more_valid/gates\n",
    "%mkdir more_valid/bezos"
   ]
  },
  {
   "cell_type": "code",
   "execution_count": 141,
   "metadata": {
    "collapsed": false
   },
   "outputs": [
    {
     "name": "stdout",
     "output_type": "stream",
     "text": [
      "712\n",
      "712\n"
     ]
    },
    {
     "data": {
      "text/plain": [
       "'/Users/jeff/Documents/GitHub/Keras-Gates-vs-Bezos-Image-Classifier/gatesbezos'"
      ]
     },
     "execution_count": 141,
     "metadata": {},
     "output_type": "execute_result"
    }
   ],
   "source": [
    "bezos = [x for x in more_im if \"bezos\" in x.split(\"/\")[-2]]\n",
    "gates = [x for x in shuffle(more_im) if \"gates\" in x.split(\"/\")[-2]][:712]\n",
    "\n",
    "print(len(bezos))\n",
    "print(len(gates))\n",
    "\n",
    "for_labeling = bezos + gates\n",
    "for_labeling = shuffle(for_labeling)\n",
    "assert(len(for_labeling) == 1424) # Thrown if wrong\n",
    "\n",
    "%pwd"
   ]
  },
  {
   "cell_type": "code",
   "execution_count": 128,
   "metadata": {
    "collapsed": false
   },
   "outputs": [
    {
     "name": "stderr",
     "output_type": "stream",
     "text": [
      "\n",
      "0it [00:00, ?it/s]\u001b[A\n",
      "1424it [00:05, 238.39it/s]\n"
     ]
    }
   ],
   "source": [
    "# Gonna move the first 80% into more_train, the last 20% into more valid -- this is not elegant\n",
    "# but it should help you grok what's happening\n",
    "\n",
    "import shutil\n",
    "from tqdm import tqdm\n",
    "\n",
    "\n",
    "for index, image in tqdm(enumerate(for_labeling)):\n",
    "    \n",
    "    if index < 1139:\n",
    "        label = image.split(\"/\")[-2]\n",
    "        image_name = image.split(\"/\")[-1]\n",
    "        if \"gates\" in label:\n",
    "            shutil.copy(image, 'more_train/gates/{}'.format(image_name))\n",
    "        if \"bezos\" in label:\n",
    "            shutil.copy(image, 'more_train/bezos/{}'.format(image_name))\n",
    "            \n",
    "    if index > 1139:\n",
    "        label = image.split(\"/\")[-2]\n",
    "        image_name = image.split(\"/\")[-1]\n",
    "        if \"gates\" in label:\n",
    "            shutil.copy(image, 'more_valid/gates/{}'.format(image_name))\n",
    "        if \"bezos\" in label:\n",
    "            shutil.copy(image, 'more_valid/bezos/{}'.format(image_name))   "
   ]
  },
  {
   "cell_type": "code",
   "execution_count": 139,
   "metadata": {
    "collapsed": false
   },
   "outputs": [
    {
     "data": {
      "text/plain": [
       "144"
      ]
     },
     "execution_count": 139,
     "metadata": {},
     "output_type": "execute_result"
    }
   ],
   "source": [
    "len(os.listdir('more_valid/bezos'))"
   ]
  },
  {
   "cell_type": "code",
   "execution_count": 142,
   "metadata": {
    "collapsed": false
   },
   "outputs": [
    {
     "name": "stdout",
     "output_type": "stream",
     "text": [
      "Found 1139 images belonging to 2 classes.\n",
      "Found 284 images belonging to 2 classes.\n"
     ]
    }
   ],
   "source": [
    "# we're getting more data: we're usig a larger validation set\n",
    "# since gates and bezos are mentioned together SO OFTEN....I bet we actually pictures of the wrong \n",
    "# guy in each folder since they come up. \n",
    "\n",
    "\n",
    "train_datagen = ImageDataGenerator(\n",
    "    rescale=1. / 255,\n",
    "    shear_range=0.2,\n",
    "    zoom_range=0.2,\n",
    "    horizontal_flip=False)\n",
    "\n",
    "# this is the augmentation configuration we will use for testing:\n",
    "# only rescaling\n",
    "test_datagen = ImageDataGenerator(rescale=1. / 255)\n",
    "\n",
    "train_generator = train_datagen.flow_from_directory(\n",
    "    'more_train/',\n",
    "    target_size=(128, 128),\n",
    "    batch_size=16,\n",
    "    class_mode='binary')\n",
    "\n",
    "validation_generator = test_datagen.flow_from_directory(\n",
    "    'more_valid/',\n",
    "    target_size=(128, 128),\n",
    "    batch_size=16,\n",
    "    class_mode='binary')"
   ]
  },
  {
   "cell_type": "code",
   "execution_count": 143,
   "metadata": {
    "collapsed": false
   },
   "outputs": [],
   "source": [
    "model = Sequential()\n",
    "\n",
    "model.add(Conv2D(32, (3, 3), input_shape=(128, 128, 3)))\n",
    "model.add(Activation('relu')) #tanh\n",
    "model.add(MaxPooling2D(pool_size=(2, 2)))\n",
    "model.add(Dropout(0.5))\n",
    "\n",
    "model.add(Conv2D(32, (3, 3)))\n",
    "model.add(Activation('relu')) #tanh\n",
    "model.add(MaxPooling2D(pool_size=(2, 2)))\n",
    "model.add(Dropout(0.5))\n",
    "\n",
    "model.add(Conv2D(64, (3, 3)))\n",
    "model.add(Activation('relu'))\n",
    "model.add(MaxPooling2D(pool_size=(2, 2)))\n",
    "model.add(Dropout(0.5))\n",
    "\n",
    "model.add(Flatten())\n",
    "model.add(Dense(96))\n",
    "model.add(Activation('relu'))\n",
    "model.add(Dropout(0.5))\n",
    "model.add(Dense(1)) # binary\n",
    "model.add(Activation('sigmoid'))\n",
    "\n",
    "model.compile(loss='binary_crossentropy',\n",
    "              optimizer='adam',\n",
    "              metrics=['accuracy'])"
   ]
  },
  {
   "cell_type": "code",
   "execution_count": 145,
   "metadata": {
    "collapsed": false
   },
   "outputs": [
    {
     "name": "stdout",
     "output_type": "stream",
     "text": [
      "Epoch 1/10\n",
      "71/71 [==============================] - 21s - loss: 0.6130 - acc: 0.6520 - val_loss: 0.6872 - val_acc: 0.5560\n",
      "Epoch 2/10\n",
      "71/71 [==============================] - 21s - loss: 0.5904 - acc: 0.6802 - val_loss: 0.6821 - val_acc: 0.5746\n",
      "Epoch 3/10\n",
      "71/71 [==============================] - 24s - loss: 0.5935 - acc: 0.6694 - val_loss: 0.6833 - val_acc: 0.6119\n",
      "Epoch 4/10\n",
      "71/71 [==============================] - 23s - loss: 0.5880 - acc: 0.6890 - val_loss: 0.6924 - val_acc: 0.5896\n",
      "Epoch 5/10\n",
      "71/71 [==============================] - 23s - loss: 0.5643 - acc: 0.6980 - val_loss: 0.6527 - val_acc: 0.6381\n",
      "Epoch 6/10\n",
      "71/71 [==============================] - 22s - loss: 0.5844 - acc: 0.6984 - val_loss: 0.6784 - val_acc: 0.6082\n",
      "Epoch 7/10\n",
      "71/71 [==============================] - 23s - loss: 0.5662 - acc: 0.7101 - val_loss: 0.7174 - val_acc: 0.5746\n",
      "Epoch 8/10\n",
      "66/71 [==========================>...] - ETA: 1s - loss: 0.5621 - acc: 0.7169"
     ]
    },
    {
     "ename": "KeyboardInterrupt",
     "evalue": "",
     "output_type": "error",
     "traceback": [
      "\u001b[0;31m---------------------------------------------------------------------------\u001b[0m",
      "\u001b[0;31mKeyboardInterrupt\u001b[0m                         Traceback (most recent call last)",
      "\u001b[0;32m<ipython-input-145-b828bfeffc0e>\u001b[0m in \u001b[0;36m<module>\u001b[0;34m()\u001b[0m\n\u001b[1;32m      4\u001b[0m     \u001b[0mepochs\u001b[0m\u001b[0;34m=\u001b[0m\u001b[0;36m10\u001b[0m\u001b[0;34m,\u001b[0m\u001b[0;34m\u001b[0m\u001b[0m\n\u001b[1;32m      5\u001b[0m     \u001b[0mvalidation_data\u001b[0m\u001b[0;34m=\u001b[0m\u001b[0mvalidation_generator\u001b[0m\u001b[0;34m,\u001b[0m\u001b[0;34m\u001b[0m\u001b[0m\n\u001b[0;32m----> 6\u001b[0;31m     validation_steps= 284 // 16)\n\u001b[0m",
      "\u001b[0;32m/Users/jeff/anaconda/lib/python3.5/site-packages/keras/legacy/interfaces.py\u001b[0m in \u001b[0;36mwrapper\u001b[0;34m(*args, **kwargs)\u001b[0m\n\u001b[1;32m     86\u001b[0m                 warnings.warn('Update your `' + object_name +\n\u001b[1;32m     87\u001b[0m                               '` call to the Keras 2 API: ' + signature, stacklevel=2)\n\u001b[0;32m---> 88\u001b[0;31m             \u001b[0;32mreturn\u001b[0m \u001b[0mfunc\u001b[0m\u001b[0;34m(\u001b[0m\u001b[0;34m*\u001b[0m\u001b[0margs\u001b[0m\u001b[0;34m,\u001b[0m \u001b[0;34m**\u001b[0m\u001b[0mkwargs\u001b[0m\u001b[0;34m)\u001b[0m\u001b[0;34m\u001b[0m\u001b[0m\n\u001b[0m\u001b[1;32m     89\u001b[0m         \u001b[0mwrapper\u001b[0m\u001b[0;34m.\u001b[0m\u001b[0m_legacy_support_signature\u001b[0m \u001b[0;34m=\u001b[0m \u001b[0minspect\u001b[0m\u001b[0;34m.\u001b[0m\u001b[0mgetargspec\u001b[0m\u001b[0;34m(\u001b[0m\u001b[0mfunc\u001b[0m\u001b[0;34m)\u001b[0m\u001b[0;34m\u001b[0m\u001b[0m\n\u001b[1;32m     90\u001b[0m         \u001b[0;32mreturn\u001b[0m \u001b[0mwrapper\u001b[0m\u001b[0;34m\u001b[0m\u001b[0m\n",
      "\u001b[0;32m/Users/jeff/anaconda/lib/python3.5/site-packages/keras/models.py\u001b[0m in \u001b[0;36mfit_generator\u001b[0;34m(self, generator, steps_per_epoch, epochs, verbose, callbacks, validation_data, validation_steps, class_weight, max_q_size, workers, pickle_safe, initial_epoch)\u001b[0m\n\u001b[1;32m   1095\u001b[0m                                         \u001b[0mworkers\u001b[0m\u001b[0;34m=\u001b[0m\u001b[0mworkers\u001b[0m\u001b[0;34m,\u001b[0m\u001b[0;34m\u001b[0m\u001b[0m\n\u001b[1;32m   1096\u001b[0m                                         \u001b[0mpickle_safe\u001b[0m\u001b[0;34m=\u001b[0m\u001b[0mpickle_safe\u001b[0m\u001b[0;34m,\u001b[0m\u001b[0;34m\u001b[0m\u001b[0m\n\u001b[0;32m-> 1097\u001b[0;31m                                         initial_epoch=initial_epoch)\n\u001b[0m\u001b[1;32m   1098\u001b[0m \u001b[0;34m\u001b[0m\u001b[0m\n\u001b[1;32m   1099\u001b[0m     \u001b[0;34m@\u001b[0m\u001b[0minterfaces\u001b[0m\u001b[0;34m.\u001b[0m\u001b[0mlegacy_generator_methods_support\u001b[0m\u001b[0;34m\u001b[0m\u001b[0m\n",
      "\u001b[0;32m/Users/jeff/anaconda/lib/python3.5/site-packages/keras/legacy/interfaces.py\u001b[0m in \u001b[0;36mwrapper\u001b[0;34m(*args, **kwargs)\u001b[0m\n\u001b[1;32m     86\u001b[0m                 warnings.warn('Update your `' + object_name +\n\u001b[1;32m     87\u001b[0m                               '` call to the Keras 2 API: ' + signature, stacklevel=2)\n\u001b[0;32m---> 88\u001b[0;31m             \u001b[0;32mreturn\u001b[0m \u001b[0mfunc\u001b[0m\u001b[0;34m(\u001b[0m\u001b[0;34m*\u001b[0m\u001b[0margs\u001b[0m\u001b[0;34m,\u001b[0m \u001b[0;34m**\u001b[0m\u001b[0mkwargs\u001b[0m\u001b[0;34m)\u001b[0m\u001b[0;34m\u001b[0m\u001b[0m\n\u001b[0m\u001b[1;32m     89\u001b[0m         \u001b[0mwrapper\u001b[0m\u001b[0;34m.\u001b[0m\u001b[0m_legacy_support_signature\u001b[0m \u001b[0;34m=\u001b[0m \u001b[0minspect\u001b[0m\u001b[0;34m.\u001b[0m\u001b[0mgetargspec\u001b[0m\u001b[0;34m(\u001b[0m\u001b[0mfunc\u001b[0m\u001b[0;34m)\u001b[0m\u001b[0;34m\u001b[0m\u001b[0m\n\u001b[1;32m     90\u001b[0m         \u001b[0;32mreturn\u001b[0m \u001b[0mwrapper\u001b[0m\u001b[0;34m\u001b[0m\u001b[0m\n",
      "\u001b[0;32m/Users/jeff/anaconda/lib/python3.5/site-packages/keras/engine/training.py\u001b[0m in \u001b[0;36mfit_generator\u001b[0;34m(self, generator, steps_per_epoch, epochs, verbose, callbacks, validation_data, validation_steps, class_weight, max_q_size, workers, pickle_safe, initial_epoch)\u001b[0m\n\u001b[1;32m   1874\u001b[0m                     outs = self.train_on_batch(x, y,\n\u001b[1;32m   1875\u001b[0m                                                \u001b[0msample_weight\u001b[0m\u001b[0;34m=\u001b[0m\u001b[0msample_weight\u001b[0m\u001b[0;34m,\u001b[0m\u001b[0;34m\u001b[0m\u001b[0m\n\u001b[0;32m-> 1876\u001b[0;31m                                                class_weight=class_weight)\n\u001b[0m\u001b[1;32m   1877\u001b[0m \u001b[0;34m\u001b[0m\u001b[0m\n\u001b[1;32m   1878\u001b[0m                     \u001b[0;32mif\u001b[0m \u001b[0;32mnot\u001b[0m \u001b[0misinstance\u001b[0m\u001b[0;34m(\u001b[0m\u001b[0mouts\u001b[0m\u001b[0;34m,\u001b[0m \u001b[0mlist\u001b[0m\u001b[0;34m)\u001b[0m\u001b[0;34m:\u001b[0m\u001b[0;34m\u001b[0m\u001b[0m\n",
      "\u001b[0;32m/Users/jeff/anaconda/lib/python3.5/site-packages/keras/engine/training.py\u001b[0m in \u001b[0;36mtrain_on_batch\u001b[0;34m(self, x, y, sample_weight, class_weight)\u001b[0m\n\u001b[1;32m   1618\u001b[0m             \u001b[0mins\u001b[0m \u001b[0;34m=\u001b[0m \u001b[0mx\u001b[0m \u001b[0;34m+\u001b[0m \u001b[0my\u001b[0m \u001b[0;34m+\u001b[0m \u001b[0msample_weights\u001b[0m\u001b[0;34m\u001b[0m\u001b[0m\n\u001b[1;32m   1619\u001b[0m         \u001b[0mself\u001b[0m\u001b[0;34m.\u001b[0m\u001b[0m_make_train_function\u001b[0m\u001b[0;34m(\u001b[0m\u001b[0;34m)\u001b[0m\u001b[0;34m\u001b[0m\u001b[0m\n\u001b[0;32m-> 1620\u001b[0;31m         \u001b[0moutputs\u001b[0m \u001b[0;34m=\u001b[0m \u001b[0mself\u001b[0m\u001b[0;34m.\u001b[0m\u001b[0mtrain_function\u001b[0m\u001b[0;34m(\u001b[0m\u001b[0mins\u001b[0m\u001b[0;34m)\u001b[0m\u001b[0;34m\u001b[0m\u001b[0m\n\u001b[0m\u001b[1;32m   1621\u001b[0m         \u001b[0;32mif\u001b[0m \u001b[0mlen\u001b[0m\u001b[0;34m(\u001b[0m\u001b[0moutputs\u001b[0m\u001b[0;34m)\u001b[0m \u001b[0;34m==\u001b[0m \u001b[0;36m1\u001b[0m\u001b[0;34m:\u001b[0m\u001b[0;34m\u001b[0m\u001b[0m\n\u001b[1;32m   1622\u001b[0m             \u001b[0;32mreturn\u001b[0m \u001b[0moutputs\u001b[0m\u001b[0;34m[\u001b[0m\u001b[0;36m0\u001b[0m\u001b[0;34m]\u001b[0m\u001b[0;34m\u001b[0m\u001b[0m\n",
      "\u001b[0;32m/Users/jeff/anaconda/lib/python3.5/site-packages/keras/backend/tensorflow_backend.py\u001b[0m in \u001b[0;36m__call__\u001b[0;34m(self, inputs)\u001b[0m\n\u001b[1;32m   2071\u001b[0m         \u001b[0msession\u001b[0m \u001b[0;34m=\u001b[0m \u001b[0mget_session\u001b[0m\u001b[0;34m(\u001b[0m\u001b[0;34m)\u001b[0m\u001b[0;34m\u001b[0m\u001b[0m\n\u001b[1;32m   2072\u001b[0m         updated = session.run(self.outputs + [self.updates_op],\n\u001b[0;32m-> 2073\u001b[0;31m                               feed_dict=feed_dict)\n\u001b[0m\u001b[1;32m   2074\u001b[0m         \u001b[0;32mreturn\u001b[0m \u001b[0mupdated\u001b[0m\u001b[0;34m[\u001b[0m\u001b[0;34m:\u001b[0m\u001b[0mlen\u001b[0m\u001b[0;34m(\u001b[0m\u001b[0mself\u001b[0m\u001b[0;34m.\u001b[0m\u001b[0moutputs\u001b[0m\u001b[0;34m)\u001b[0m\u001b[0;34m]\u001b[0m\u001b[0;34m\u001b[0m\u001b[0m\n\u001b[1;32m   2075\u001b[0m \u001b[0;34m\u001b[0m\u001b[0m\n",
      "\u001b[0;32m/Users/jeff/anaconda/lib/python3.5/site-packages/tensorflow/python/client/session.py\u001b[0m in \u001b[0;36mrun\u001b[0;34m(self, fetches, feed_dict, options, run_metadata)\u001b[0m\n\u001b[1;32m    787\u001b[0m     \u001b[0;32mtry\u001b[0m\u001b[0;34m:\u001b[0m\u001b[0;34m\u001b[0m\u001b[0m\n\u001b[1;32m    788\u001b[0m       result = self._run(None, fetches, feed_dict, options_ptr,\n\u001b[0;32m--> 789\u001b[0;31m                          run_metadata_ptr)\n\u001b[0m\u001b[1;32m    790\u001b[0m       \u001b[0;32mif\u001b[0m \u001b[0mrun_metadata\u001b[0m\u001b[0;34m:\u001b[0m\u001b[0;34m\u001b[0m\u001b[0m\n\u001b[1;32m    791\u001b[0m         \u001b[0mproto_data\u001b[0m \u001b[0;34m=\u001b[0m \u001b[0mtf_session\u001b[0m\u001b[0;34m.\u001b[0m\u001b[0mTF_GetBuffer\u001b[0m\u001b[0;34m(\u001b[0m\u001b[0mrun_metadata_ptr\u001b[0m\u001b[0;34m)\u001b[0m\u001b[0;34m\u001b[0m\u001b[0m\n",
      "\u001b[0;32m/Users/jeff/anaconda/lib/python3.5/site-packages/tensorflow/python/client/session.py\u001b[0m in \u001b[0;36m_run\u001b[0;34m(self, handle, fetches, feed_dict, options, run_metadata)\u001b[0m\n\u001b[1;32m    995\u001b[0m     \u001b[0;32mif\u001b[0m \u001b[0mfinal_fetches\u001b[0m \u001b[0;32mor\u001b[0m \u001b[0mfinal_targets\u001b[0m\u001b[0;34m:\u001b[0m\u001b[0;34m\u001b[0m\u001b[0m\n\u001b[1;32m    996\u001b[0m       results = self._do_run(handle, final_targets, final_fetches,\n\u001b[0;32m--> 997\u001b[0;31m                              feed_dict_string, options, run_metadata)\n\u001b[0m\u001b[1;32m    998\u001b[0m     \u001b[0;32melse\u001b[0m\u001b[0;34m:\u001b[0m\u001b[0;34m\u001b[0m\u001b[0m\n\u001b[1;32m    999\u001b[0m       \u001b[0mresults\u001b[0m \u001b[0;34m=\u001b[0m \u001b[0;34m[\u001b[0m\u001b[0;34m]\u001b[0m\u001b[0;34m\u001b[0m\u001b[0m\n",
      "\u001b[0;32m/Users/jeff/anaconda/lib/python3.5/site-packages/tensorflow/python/client/session.py\u001b[0m in \u001b[0;36m_do_run\u001b[0;34m(self, handle, target_list, fetch_list, feed_dict, options, run_metadata)\u001b[0m\n\u001b[1;32m   1130\u001b[0m     \u001b[0;32mif\u001b[0m \u001b[0mhandle\u001b[0m \u001b[0;32mis\u001b[0m \u001b[0;32mNone\u001b[0m\u001b[0;34m:\u001b[0m\u001b[0;34m\u001b[0m\u001b[0m\n\u001b[1;32m   1131\u001b[0m       return self._do_call(_run_fn, self._session, feed_dict, fetch_list,\n\u001b[0;32m-> 1132\u001b[0;31m                            target_list, options, run_metadata)\n\u001b[0m\u001b[1;32m   1133\u001b[0m     \u001b[0;32melse\u001b[0m\u001b[0;34m:\u001b[0m\u001b[0;34m\u001b[0m\u001b[0m\n\u001b[1;32m   1134\u001b[0m       return self._do_call(_prun_fn, self._session, handle, feed_dict,\n",
      "\u001b[0;32m/Users/jeff/anaconda/lib/python3.5/site-packages/tensorflow/python/client/session.py\u001b[0m in \u001b[0;36m_do_call\u001b[0;34m(self, fn, *args)\u001b[0m\n\u001b[1;32m   1137\u001b[0m   \u001b[0;32mdef\u001b[0m \u001b[0m_do_call\u001b[0m\u001b[0;34m(\u001b[0m\u001b[0mself\u001b[0m\u001b[0;34m,\u001b[0m \u001b[0mfn\u001b[0m\u001b[0;34m,\u001b[0m \u001b[0;34m*\u001b[0m\u001b[0margs\u001b[0m\u001b[0;34m)\u001b[0m\u001b[0;34m:\u001b[0m\u001b[0;34m\u001b[0m\u001b[0m\n\u001b[1;32m   1138\u001b[0m     \u001b[0;32mtry\u001b[0m\u001b[0;34m:\u001b[0m\u001b[0;34m\u001b[0m\u001b[0m\n\u001b[0;32m-> 1139\u001b[0;31m       \u001b[0;32mreturn\u001b[0m \u001b[0mfn\u001b[0m\u001b[0;34m(\u001b[0m\u001b[0;34m*\u001b[0m\u001b[0margs\u001b[0m\u001b[0;34m)\u001b[0m\u001b[0;34m\u001b[0m\u001b[0m\n\u001b[0m\u001b[1;32m   1140\u001b[0m     \u001b[0;32mexcept\u001b[0m \u001b[0merrors\u001b[0m\u001b[0;34m.\u001b[0m\u001b[0mOpError\u001b[0m \u001b[0;32mas\u001b[0m \u001b[0me\u001b[0m\u001b[0;34m:\u001b[0m\u001b[0;34m\u001b[0m\u001b[0m\n\u001b[1;32m   1141\u001b[0m       \u001b[0mmessage\u001b[0m \u001b[0;34m=\u001b[0m \u001b[0mcompat\u001b[0m\u001b[0;34m.\u001b[0m\u001b[0mas_text\u001b[0m\u001b[0;34m(\u001b[0m\u001b[0me\u001b[0m\u001b[0;34m.\u001b[0m\u001b[0mmessage\u001b[0m\u001b[0;34m)\u001b[0m\u001b[0;34m\u001b[0m\u001b[0m\n",
      "\u001b[0;32m/Users/jeff/anaconda/lib/python3.5/site-packages/tensorflow/python/client/session.py\u001b[0m in \u001b[0;36m_run_fn\u001b[0;34m(session, feed_dict, fetch_list, target_list, options, run_metadata)\u001b[0m\n\u001b[1;32m   1119\u001b[0m         return tf_session.TF_Run(session, options,\n\u001b[1;32m   1120\u001b[0m                                  \u001b[0mfeed_dict\u001b[0m\u001b[0;34m,\u001b[0m \u001b[0mfetch_list\u001b[0m\u001b[0;34m,\u001b[0m \u001b[0mtarget_list\u001b[0m\u001b[0;34m,\u001b[0m\u001b[0;34m\u001b[0m\u001b[0m\n\u001b[0;32m-> 1121\u001b[0;31m                                  status, run_metadata)\n\u001b[0m\u001b[1;32m   1122\u001b[0m \u001b[0;34m\u001b[0m\u001b[0m\n\u001b[1;32m   1123\u001b[0m     \u001b[0;32mdef\u001b[0m \u001b[0m_prun_fn\u001b[0m\u001b[0;34m(\u001b[0m\u001b[0msession\u001b[0m\u001b[0;34m,\u001b[0m \u001b[0mhandle\u001b[0m\u001b[0;34m,\u001b[0m \u001b[0mfeed_dict\u001b[0m\u001b[0;34m,\u001b[0m \u001b[0mfetch_list\u001b[0m\u001b[0;34m)\u001b[0m\u001b[0;34m:\u001b[0m\u001b[0;34m\u001b[0m\u001b[0m\n",
      "\u001b[0;31mKeyboardInterrupt\u001b[0m: "
     ]
    }
   ],
   "source": [
    "model.fit_generator(\n",
    "    train_generator,\n",
    "    steps_per_epoch= 1139 // 16, # give me more data\n",
    "    epochs=10,\n",
    "    validation_data=validation_generator,\n",
    "    validation_steps= 284 // 16)"
   ]
  },
  {
   "cell_type": "code",
   "execution_count": null,
   "metadata": {
    "collapsed": false
   },
   "outputs": [],
   "source": []
  },
  {
   "cell_type": "code",
   "execution_count": null,
   "metadata": {
    "collapsed": false
   },
   "outputs": [
    {
     "name": "stdout",
     "output_type": "stream",
     "text": [
      "Found 1099 images belonging to 2 classes.\n",
      "Found 100 images belonging to 2 classes.\n",
      "Epoch 1/50\n",
      "  5/125 [>.............................] - ETA: 74s - loss: 0.8550 - acc: 0.5000"
     ]
    }
   ],
   "source": [
    "train_datagen = ImageDataGenerator(\n",
    "    rescale=1. / 255,\n",
    "    shear_range=0.2,\n",
    "    zoom_range=0.2,\n",
    "    horizontal_flip=False)\n",
    "\n",
    "# this is the augmentation configuration we will use for testing:\n",
    "# only rescaling\n",
    "test_datagen = ImageDataGenerator(rescale=1. / 255)\n",
    "\n",
    "train_generator = train_datagen.flow_from_directory(\n",
    "    'train_images/',\n",
    "    target_size=(128, 128),\n",
    "    batch_size=16,\n",
    "    class_mode='binary', shuffle=True)\n",
    "\n",
    "validation_generator = test_datagen.flow_from_directory(\n",
    "    'valid_images/',\n",
    "    target_size=(128, 128),\n",
    "    batch_size=16,\n",
    "    class_mode='binary', shuffle=False)\n",
    "\n",
    "model = Sequential()\n",
    "\n",
    "model.add(Conv2D(32, (3, 3), input_shape=(128, 128, 3)))\n",
    "model.add(Activation('relu')) #tanh\n",
    "model.add(MaxPooling2D(pool_size=(2, 2)))\n",
    "model.add(Dropout(0.5))\n",
    "\n",
    "model.add(Conv2D(32, (3, 3)))\n",
    "model.add(Activation('relu')) #tanh\n",
    "model.add(MaxPooling2D(pool_size=(2, 2)))\n",
    "model.add(Dropout(0.5))\n",
    "\n",
    "model.add(Conv2D(64, (3, 3)))\n",
    "model.add(Activation('relu'))\n",
    "model.add(MaxPooling2D(pool_size=(2, 2)))\n",
    "model.add(Dropout(0.5))\n",
    "\n",
    "model.add(Flatten())\n",
    "model.add(Dense(96))\n",
    "model.add(Activation('relu'))\n",
    "model.add(Dropout(0.5))\n",
    "model.add(Dense(1)) # binary\n",
    "model.add(Activation('sigmoid'))\n",
    "\n",
    "model.compile(loss='binary_crossentropy',\n",
    "              optimizer='adam',\n",
    "              metrics=['accuracy'])\n",
    "\n",
    "model.fit_generator(\n",
    "    train_generator,\n",
    "    steps_per_epoch= 2000 // 16, # give me more data\n",
    "    epochs=50, # This will be \n",
    "    validation_data=validation_generator,\n",
    "    validation_steps= 300 // 16)"
   ]
  },
  {
   "cell_type": "code",
   "execution_count": null,
   "metadata": {
    "collapsed": false
   },
   "outputs": [],
   "source": [
    "# Then try without shuffling\n",
    "# Try validation_generator.class_indices and validation_generator.classes. pprint it and see how its useful to you."
   ]
  },
  {
   "cell_type": "code",
   "execution_count": null,
   "metadata": {
    "collapsed": false
   },
   "outputs": [],
   "source": []
  },
  {
   "cell_type": "code",
   "execution_count": null,
   "metadata": {
    "collapsed": true
   },
   "outputs": [],
   "source": []
  }
 ],
 "metadata": {
  "anaconda-cloud": {},
  "kernelspec": {
   "display_name": "Python [conda root]",
   "language": "python",
   "name": "conda-root-py"
  },
  "language_info": {
   "codemirror_mode": {
    "name": "ipython",
    "version": 3
   },
   "file_extension": ".py",
   "mimetype": "text/x-python",
   "name": "python",
   "nbconvert_exporter": "python",
   "pygments_lexer": "ipython3",
   "version": "3.5.2"
  }
 },
 "nbformat": 4,
 "nbformat_minor": 1
}
