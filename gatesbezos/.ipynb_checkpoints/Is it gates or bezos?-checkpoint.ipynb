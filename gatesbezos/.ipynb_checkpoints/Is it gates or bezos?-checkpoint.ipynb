{
 "cells": [
  {
   "cell_type": "code",
   "execution_count": 34,
   "metadata": {
    "collapsed": false
   },
   "outputs": [],
   "source": [
    "from keras import applications\n",
    "\n",
    "from keras.preprocessing.image import ImageDataGenerator\n",
    "\n",
    "from keras import optimizers\n",
    "from keras.models import Sequential, Model\n",
    "from keras.layers import (Dropout, Flatten, Dense, Conv2D, \n",
    "                          Activation, MaxPooling2D)\n",
    "\n",
    "from sklearn.cross_validation import train_test_split\n",
    "\n",
    "import os, glob\n",
    "from tqdm import tqdm\n",
    "import pandas as pd\n",
    "from sklearn.utils import shuffle\n",
    "import numpy as np\n",
    "import shutil"
   ]
  },
  {
   "cell_type": "code",
   "execution_count": 22,
   "metadata": {
    "collapsed": true
   },
   "outputs": [],
   "source": [
    "# dimensions of our images. label = bezos, gates 2 labels\n",
    "img_width, img_height = 128, 128\n",
    "\n",
    "train_data_dir = 'train_images/'\n",
    "validation_data_dir = 'valid_images'\n",
    "\n",
    "epochs = 50\n",
    "batch_size = 16"
   ]
  },
  {
   "cell_type": "code",
   "execution_count": 5,
   "metadata": {
    "collapsed": false
   },
   "outputs": [
    {
     "name": "stdout",
     "output_type": "stream",
     "text": [
      "Object `keras` not found.\n"
     ]
    }
   ],
   "source": [
    "# Find version of keras after 1.x MUCH diff from 2.x"
   ]
  },
  {
   "cell_type": "markdown",
   "metadata": {},
   "source": [
    "```bash\n",
    "Jeffreys-iMac:gates jeff$ mv `ls | head -50` /Users/jeff/experiments/valid_images/gates\n",
    "Jeffreys-iMac:gates jeff$ pwd\n",
    "/Users/jeff/experiments/train_images/gates\n",
    "\n",
    "Jeffreys-iMac:gates jeff$ ls /Users/jeff/experiments/valid_images/gates | wc -l\n",
    "      50```"
   ]
  },
  {
   "cell_type": "code",
   "execution_count": 23,
   "metadata": {
    "collapsed": false
   },
   "outputs": [],
   "source": [
    "model = Sequential()\n",
    "\n",
    "model.add(Conv2D(32, (3, 3), input_shape=(128, 128, 3)))\n",
    "model.add(Activation('relu')) #tanh\n",
    "model.add(MaxPooling2D(pool_size=(2, 2)))\n",
    "model.add(Dropout(0.5))\n",
    "\n",
    "model.add(Conv2D(32, (3, 3)))\n",
    "model.add(Activation('relu')) #tanh\n",
    "model.add(MaxPooling2D(pool_size=(2, 2)))\n",
    "model.add(Dropout(0.5))\n",
    "\n",
    "model.add(Conv2D(64, (3, 3)))\n",
    "model.add(Activation('relu'))\n",
    "model.add(MaxPooling2D(pool_size=(2, 2)))\n",
    "model.add(Dropout(0.5))\n",
    "\n",
    "model.add(Flatten())\n",
    "model.add(Dense(96))\n",
    "model.add(Activation('relu'))\n",
    "model.add(Dropout(0.5))\n",
    "model.add(Dense(1)) # binary\n",
    "model.add(Activation('sigmoid'))\n",
    "\n",
    "model.compile(loss='binary_crossentropy',\n",
    "              optimizer='adam',\n",
    "              metrics=['accuracy'])\n",
    "# 10 types of ships: Dense(10) Activation 'softmax' loss categorical_crossentropy"
   ]
  },
  {
   "cell_type": "code",
   "execution_count": 24,
   "metadata": {
    "collapsed": false
   },
   "outputs": [
    {
     "name": "stdout",
     "output_type": "stream",
     "text": [
      "Found 1099 images belonging to 2 classes.\n",
      "Found 100 images belonging to 2 classes.\n"
     ]
    }
   ],
   "source": [
    "train_datagen = ImageDataGenerator(\n",
    "    rescale=1. / 255,\n",
    "    shear_range=0.2,\n",
    "    zoom_range=0.2,\n",
    "    horizontal_flip=False)\n",
    "\n",
    "# this is the augmentation configuration we will use for testing:\n",
    "# only rescaling\n",
    "test_datagen = ImageDataGenerator(rescale=1. / 255)\n",
    "\n",
    "train_generator = train_datagen.flow_from_directory(\n",
    "    train_data_dir,\n",
    "    target_size=(img_width, img_height),\n",
    "    batch_size=batch_size,\n",
    "    class_mode='binary')\n",
    "\n",
    "validation_generator = test_datagen.flow_from_directory(\n",
    "    validation_data_dir,\n",
    "    target_size=(img_width, img_height),\n",
    "    batch_size=batch_size,\n",
    "    class_mode='binary')\n",
    "# need not fit all yrou stuff in memory, like a bunch of numpy arrays or something"
   ]
  },
  {
   "cell_type": "code",
   "execution_count": 25,
   "metadata": {
    "collapsed": false
   },
   "outputs": [
    {
     "name": "stdout",
     "output_type": "stream",
     "text": [
      "Epoch 1/50\n",
      "78/78 [==============================] - 23s - loss: 0.7408 - acc: 0.5057 - val_loss: 0.6931 - val_acc: 0.4896\n",
      "Epoch 2/50\n",
      "78/78 [==============================] - 22s - loss: 0.6900 - acc: 0.5246 - val_loss: 0.6902 - val_acc: 0.5238\n",
      "Epoch 3/50\n",
      "78/78 [==============================] - 22s - loss: 0.6823 - acc: 0.5590 - val_loss: 0.6701 - val_acc: 0.6429\n",
      "Epoch 4/50\n",
      "78/78 [==============================] - 22s - loss: 0.6682 - acc: 0.5847 - val_loss: 0.6391 - val_acc: 0.7262\n",
      "Epoch 5/50\n",
      "78/78 [==============================] - 22s - loss: 0.6542 - acc: 0.6217 - val_loss: 0.6433 - val_acc: 0.7262\n",
      "Epoch 6/50\n",
      "78/78 [==============================] - 22s - loss: 0.6576 - acc: 0.6267 - val_loss: 0.6572 - val_acc: 0.7024\n",
      "Epoch 7/50\n",
      "78/78 [==============================] - 22s - loss: 0.6407 - acc: 0.6519 - val_loss: 0.6330 - val_acc: 0.7188\n",
      "Epoch 8/50\n",
      "78/78 [==============================] - 22s - loss: 0.6441 - acc: 0.6361 - val_loss: 0.5936 - val_acc: 0.7143\n",
      "Epoch 9/50\n",
      "78/78 [==============================] - 22s - loss: 0.6204 - acc: 0.6604 - val_loss: 0.6194 - val_acc: 0.6786\n",
      "Epoch 10/50\n",
      "78/78 [==============================] - 22s - loss: 0.6054 - acc: 0.6812 - val_loss: 0.5902 - val_acc: 0.7500\n",
      "Epoch 11/50\n",
      "78/78 [==============================] - 22s - loss: 0.6133 - acc: 0.6810 - val_loss: 0.6117 - val_acc: 0.7500\n",
      "Epoch 12/50\n",
      "78/78 [==============================] - 23s - loss: 0.6041 - acc: 0.6821 - val_loss: 0.6050 - val_acc: 0.7143\n",
      "Epoch 13/50\n",
      "78/78 [==============================] - 22s - loss: 0.5876 - acc: 0.6956 - val_loss: 0.6174 - val_acc: 0.6786\n",
      "Epoch 14/50\n",
      "78/78 [==============================] - 22s - loss: 0.5815 - acc: 0.6969 - val_loss: 0.6226 - val_acc: 0.7381\n",
      "Epoch 15/50\n",
      "78/78 [==============================] - 22s - loss: 0.5858 - acc: 0.6965 - val_loss: 0.6315 - val_acc: 0.6429\n",
      "Epoch 16/50\n",
      "78/78 [==============================] - 22s - loss: 0.5622 - acc: 0.7194 - val_loss: 0.6231 - val_acc: 0.6786\n",
      "Epoch 17/50\n",
      "78/78 [==============================] - 22s - loss: 0.5747 - acc: 0.6876 - val_loss: 0.5852 - val_acc: 0.7500\n",
      "Epoch 18/50\n",
      "78/78 [==============================] - 22s - loss: 0.5425 - acc: 0.7332 - val_loss: 0.5993 - val_acc: 0.6905\n",
      "Epoch 19/50\n",
      "78/78 [==============================] - 22s - loss: 0.5339 - acc: 0.7217 - val_loss: 0.6783 - val_acc: 0.5595\n",
      "Epoch 20/50\n",
      "78/78 [==============================] - 22s - loss: 0.5237 - acc: 0.7344 - val_loss: 0.6021 - val_acc: 0.6905\n",
      "Epoch 21/50\n",
      "78/78 [==============================] - 22s - loss: 0.5149 - acc: 0.7457 - val_loss: 0.6625 - val_acc: 0.6071\n",
      "Epoch 22/50\n",
      "78/78 [==============================] - 22s - loss: 0.5080 - acc: 0.7453 - val_loss: 0.5398 - val_acc: 0.7619\n",
      "Epoch 23/50\n",
      "78/78 [==============================] - 22s - loss: 0.5068 - acc: 0.7358 - val_loss: 0.5645 - val_acc: 0.6548\n",
      "Epoch 24/50\n",
      "78/78 [==============================] - 22s - loss: 0.5007 - acc: 0.7461 - val_loss: 0.5849 - val_acc: 0.7262\n",
      "Epoch 25/50\n",
      "78/78 [==============================] - 22s - loss: 0.4845 - acc: 0.7637 - val_loss: 0.6141 - val_acc: 0.6548\n",
      "Epoch 26/50\n",
      "78/78 [==============================] - 22s - loss: 0.4946 - acc: 0.7641 - val_loss: 0.6092 - val_acc: 0.6786\n",
      "Epoch 27/50\n",
      "78/78 [==============================] - 22s - loss: 0.4774 - acc: 0.7702 - val_loss: 0.5717 - val_acc: 0.7976\n",
      "Epoch 28/50\n",
      "78/78 [==============================] - 22s - loss: 0.4784 - acc: 0.7673 - val_loss: 0.6198 - val_acc: 0.6190\n",
      "Epoch 29/50\n",
      "78/78 [==============================] - 22s - loss: 0.4396 - acc: 0.7754 - val_loss: 0.5694 - val_acc: 0.7024\n",
      "Epoch 30/50\n",
      "78/78 [==============================] - 22s - loss: 0.4690 - acc: 0.7842 - val_loss: 0.6168 - val_acc: 0.7024\n",
      "Epoch 31/50\n",
      "78/78 [==============================] - 22s - loss: 0.4592 - acc: 0.7830 - val_loss: 0.6057 - val_acc: 0.6429\n",
      "Epoch 32/50\n",
      "78/78 [==============================] - 22s - loss: 0.4341 - acc: 0.7873 - val_loss: 0.5643 - val_acc: 0.7262\n",
      "Epoch 33/50\n",
      "78/78 [==============================] - 22s - loss: 0.4164 - acc: 0.8026 - val_loss: 0.6581 - val_acc: 0.6667\n",
      "Epoch 34/50\n",
      "78/78 [==============================] - 22s - loss: 0.4304 - acc: 0.8005 - val_loss: 0.5923 - val_acc: 0.7738\n",
      "Epoch 35/50\n",
      "78/78 [==============================] - 22s - loss: 0.4056 - acc: 0.8106 - val_loss: 0.5314 - val_acc: 0.7619\n",
      "Epoch 36/50\n",
      "78/78 [==============================] - 22s - loss: 0.4213 - acc: 0.7941 - val_loss: 0.5973 - val_acc: 0.6905\n",
      "Epoch 37/50\n",
      "78/78 [==============================] - 22s - loss: 0.3994 - acc: 0.8097 - val_loss: 0.5158 - val_acc: 0.7619\n",
      "Epoch 38/50\n",
      "78/78 [==============================] - 22s - loss: 0.3986 - acc: 0.8105 - val_loss: 0.4728 - val_acc: 0.8214\n",
      "Epoch 39/50\n",
      "78/78 [==============================] - 22s - loss: 0.3818 - acc: 0.8231 - val_loss: 0.5172 - val_acc: 0.7619\n",
      "Epoch 40/50\n",
      "78/78 [==============================] - 22s - loss: 0.3781 - acc: 0.8346 - val_loss: 0.5962 - val_acc: 0.7024\n",
      "Epoch 41/50\n",
      "78/78 [==============================] - 22s - loss: 0.3659 - acc: 0.8341 - val_loss: 0.6411 - val_acc: 0.6667\n",
      "Epoch 42/50\n",
      "78/78 [==============================] - 22s - loss: 0.3626 - acc: 0.8391 - val_loss: 0.4617 - val_acc: 0.7976\n",
      "Epoch 43/50\n",
      "78/78 [==============================] - 22s - loss: 0.3713 - acc: 0.8271 - val_loss: 0.5396 - val_acc: 0.7857\n",
      "Epoch 44/50\n",
      "78/78 [==============================] - 22s - loss: 0.3747 - acc: 0.8398 - val_loss: 0.5488 - val_acc: 0.7143\n",
      "Epoch 45/50\n",
      "78/78 [==============================] - 22s - loss: 0.3298 - acc: 0.8430 - val_loss: 0.5408 - val_acc: 0.8095\n",
      "Epoch 46/50\n",
      "78/78 [==============================] - 22s - loss: 0.3587 - acc: 0.8475 - val_loss: 0.5794 - val_acc: 0.7024\n",
      "Epoch 47/50\n",
      "78/78 [==============================] - 22s - loss: 0.3410 - acc: 0.8462 - val_loss: 0.4270 - val_acc: 0.7857\n",
      "Epoch 48/50\n",
      "78/78 [==============================] - 22s - loss: 0.3678 - acc: 0.8310 - val_loss: 0.5295 - val_acc: 0.7381\n",
      "Epoch 49/50\n",
      "78/78 [==============================] - 22s - loss: 0.3518 - acc: 0.8330 - val_loss: 0.6106 - val_acc: 0.7143\n",
      "Epoch 50/50\n",
      "78/78 [==============================] - 22s - loss: 0.3134 - acc: 0.8623 - val_loss: 0.5628 - val_acc: 0.7262\n"
     ]
    },
    {
     "data": {
      "text/plain": [
       "<keras.callbacks.History at 0x128dbfcf8>"
      ]
     },
     "execution_count": 25,
     "metadata": {},
     "output_type": "execute_result"
    }
   ],
   "source": [
    "model.fit_generator(\n",
    "    train_generator,\n",
    "    steps_per_epoch= 1250 // 16, # give me more data\n",
    "    epochs=50,\n",
    "    validation_data=validation_generator,\n",
    "    validation_steps=100 // 16)\n",
    "\n",
    "# bezoes, bezoes, bezoes = 50% of the time. \n",
    "# overfitting: get more data, augment eisting data.....\n",
    "# conv network: filters find attributes anywhere in the image, ignores \"where\" it found it -- anywhere"
   ]
  },
  {
   "cell_type": "code",
   "execution_count": 26,
   "metadata": {
    "collapsed": false
   },
   "outputs": [],
   "source": [
    "# use a pretrained net for features\n",
    "# Generate some features \"features\" --> \n",
    "\n",
    "from keras.applications.vgg16 import VGG16\n",
    "from keras.preprocessing import image\n",
    "from keras.applications.vgg16 import preprocess_input"
   ]
  },
  {
   "cell_type": "code",
   "execution_count": 27,
   "metadata": {
    "collapsed": true
   },
   "outputs": [],
   "source": [
    "model = VGG16(weights='imagenet', include_top=False)"
   ]
  },
  {
   "cell_type": "code",
   "execution_count": 30,
   "metadata": {
    "collapsed": false
   },
   "outputs": [
    {
     "name": "stdout",
     "output_type": "stream",
     "text": [
      "_________________________________________________________________\n",
      "Layer (type)                 Output Shape              Param #   \n",
      "=================================================================\n",
      "input_1 (InputLayer)         (None, None, None, 3)     0         \n",
      "_________________________________________________________________\n",
      "block1_conv1 (Conv2D)        (None, None, None, 64)    1792      \n",
      "_________________________________________________________________\n",
      "block1_conv2 (Conv2D)        (None, None, None, 64)    36928     \n",
      "_________________________________________________________________\n",
      "block1_pool (MaxPooling2D)   (None, None, None, 64)    0         \n",
      "_________________________________________________________________\n",
      "block2_conv1 (Conv2D)        (None, None, None, 128)   73856     \n",
      "_________________________________________________________________\n",
      "block2_conv2 (Conv2D)        (None, None, None, 128)   147584    \n",
      "_________________________________________________________________\n",
      "block2_pool (MaxPooling2D)   (None, None, None, 128)   0         \n",
      "_________________________________________________________________\n",
      "block3_conv1 (Conv2D)        (None, None, None, 256)   295168    \n",
      "_________________________________________________________________\n",
      "block3_conv2 (Conv2D)        (None, None, None, 256)   590080    \n",
      "_________________________________________________________________\n",
      "block3_conv3 (Conv2D)        (None, None, None, 256)   590080    \n",
      "_________________________________________________________________\n",
      "block3_pool (MaxPooling2D)   (None, None, None, 256)   0         \n",
      "_________________________________________________________________\n",
      "block4_conv1 (Conv2D)        (None, None, None, 512)   1180160   \n",
      "_________________________________________________________________\n",
      "block4_conv2 (Conv2D)        (None, None, None, 512)   2359808   \n",
      "_________________________________________________________________\n",
      "block4_conv3 (Conv2D)        (None, None, None, 512)   2359808   \n",
      "_________________________________________________________________\n",
      "block4_pool (MaxPooling2D)   (None, None, None, 512)   0         \n",
      "_________________________________________________________________\n",
      "block5_conv1 (Conv2D)        (None, None, None, 512)   2359808   \n",
      "_________________________________________________________________\n",
      "block5_conv2 (Conv2D)        (None, None, None, 512)   2359808   \n",
      "_________________________________________________________________\n",
      "block5_conv3 (Conv2D)        (None, None, None, 512)   2359808   \n",
      "_________________________________________________________________\n",
      "block5_pool (MaxPooling2D)   (None, None, None, 512)   0         \n",
      "=================================================================\n",
      "Total params: 14,714,688.0\n",
      "Trainable params: 14,714,688.0\n",
      "Non-trainable params: 0.0\n",
      "_________________________________________________________________\n"
     ]
    }
   ],
   "source": [
    "model.summary()"
   ]
  },
  {
   "cell_type": "code",
   "execution_count": null,
   "metadata": {
    "collapsed": true
   },
   "outputs": [],
   "source": []
  },
  {
   "cell_type": "code",
   "execution_count": 64,
   "metadata": {
    "collapsed": false
   },
   "outputs": [
    {
     "name": "stdout",
     "output_type": "stream",
     "text": [
      "Found 1099 images belonging to 2 classes.\n",
      "Found 100 images belonging to 2 classes.\n",
      "1099/1099 [==============================] - 145s   \n",
      "100/100 [==============================] - 13s    \n",
      "159.15918922424316\n"
     ]
    }
   ],
   "source": [
    "# Should be (x,x,x,512d) vectors -- better than our 80ish% scratch convnet\n",
    "# First, did we really randomize our data properly, or did our validation set give us a boost\n",
    "\n",
    "import time\n",
    "\n",
    "start = time.time()\n",
    "\n",
    "train_gen = train_datagen.flow_from_directory(\n",
    "        'train_images/',\n",
    "        target_size=(128, 128),\n",
    "        batch_size=1,\n",
    "        class_mode=None,  # only data, no labels -- we're not trying to predict anything here\n",
    "        shuffle=False)  # keep data in same order as labels\n",
    "\n",
    "valid_gen = train_datagen.flow_from_directory(\n",
    "        'valid_images/',\n",
    "        target_size=(128, 128),\n",
    "        batch_size=1,\n",
    "        class_mode=None,  # only data, no labels -- we're not trying to predict anything here\n",
    "        shuffle=False)  # keep data in same order as labels\n",
    "\n",
    "train_probs = model.predict_generator(train_gen, 1099, workers=3, verbose=1)\n",
    "valid_probs = model.predict_generator(valid_gen, 100, workers=3, verbose=1)\n",
    "\n",
    "end = time.time()\n",
    "\n",
    "print(end - start)"
   ]
  },
  {
   "cell_type": "code",
   "execution_count": 67,
   "metadata": {
    "collapsed": false
   },
   "outputs": [
    {
     "name": "stdout",
     "output_type": "stream",
     "text": [
      "(1099, 4, 4, 512)\n",
      "(100, 4, 4, 512)\n",
      "(1099,)\n",
      "(100,)\n"
     ]
    }
   ],
   "source": [
    "# MLP: since the 512d vector arguably is not a sequence, like text, audio, time series data\n",
    "# And it doesn't have higher dimensional features which exhibit spatial invarince...\n",
    "# The problem almost falls into the domain of traditional ML algorithms\n",
    "# If we want to use deep learning to convert these 512d vectors to a prediction, we can use a DNN\n",
    "# aka a multilayer perceptron\n",
    "\n",
    "# idea of a generator -- imagine you had to fine the count of the word \"dogged\" in 100 billion lines of text\n",
    "# the file is almost taking up your entire hard driver. You can use a generator to avoid reading the entire\n",
    "# thing into RAM, just process one line at a time, and only keep track of a object to count \"dogged\", etc...\n",
    "print(train_probs.shape)\n",
    "print(valid_probs.shape)\n",
    "print(train_gen.classes.shape)\n",
    "print(valid_gen.classes.shape)"
   ]
  },
  {
   "cell_type": "code",
   "execution_count": 73,
   "metadata": {
    "collapsed": false
   },
   "outputs": [
    {
     "name": "stdout",
     "output_type": "stream",
     "text": [
      "Train on 1099 samples, validate on 100 samples\n",
      "Epoch 1/50\n",
      "1099/1099 [==============================] - 1s - loss: 0.8323 - acc: 0.5296 - val_loss: 0.6694 - val_acc: 0.5800\n",
      "Epoch 2/50\n",
      "1099/1099 [==============================] - 1s - loss: 0.6259 - acc: 0.6333 - val_loss: 0.5733 - val_acc: 0.7400\n",
      "Epoch 3/50\n",
      "1099/1099 [==============================] - 1s - loss: 0.6005 - acc: 0.6843 - val_loss: 0.6348 - val_acc: 0.6100\n",
      "Epoch 4/50\n",
      "1099/1099 [==============================] - 1s - loss: 0.5852 - acc: 0.6924 - val_loss: 0.5591 - val_acc: 0.6900\n",
      "Epoch 5/50\n",
      "1099/1099 [==============================] - 1s - loss: 0.5220 - acc: 0.7243 - val_loss: 0.5358 - val_acc: 0.7600\n",
      "Epoch 6/50\n",
      "1099/1099 [==============================] - 1s - loss: 0.5154 - acc: 0.7188 - val_loss: 0.5443 - val_acc: 0.7200\n",
      "Epoch 7/50\n",
      "1099/1099 [==============================] - 1s - loss: 0.4581 - acc: 0.7434 - val_loss: 0.5565 - val_acc: 0.7400\n",
      "Epoch 8/50\n",
      "1099/1099 [==============================] - 1s - loss: 0.4968 - acc: 0.6988 - val_loss: 0.5875 - val_acc: 0.7400\n",
      "Epoch 9/50\n",
      "1099/1099 [==============================] - 1s - loss: 0.4493 - acc: 0.7389 - val_loss: 0.5228 - val_acc: 0.7400\n",
      "Epoch 10/50\n",
      "1099/1099 [==============================] - 1s - loss: 0.4344 - acc: 0.7543 - val_loss: 0.5766 - val_acc: 0.7000\n",
      "Epoch 11/50\n",
      "1099/1099 [==============================] - 1s - loss: 0.4177 - acc: 0.7598 - val_loss: 0.6286 - val_acc: 0.7100\n",
      "Epoch 12/50\n",
      "1099/1099 [==============================] - 1s - loss: 0.4148 - acc: 0.7589 - val_loss: 0.6132 - val_acc: 0.7300\n",
      "Epoch 13/50\n",
      "1099/1099 [==============================] - 1s - loss: 0.4033 - acc: 0.7698 - val_loss: 0.7645 - val_acc: 0.7100\n",
      "Epoch 14/50\n",
      "1099/1099 [==============================] - 1s - loss: 0.3949 - acc: 0.7862 - val_loss: 0.7752 - val_acc: 0.7200\n",
      "Epoch 15/50\n",
      "1099/1099 [==============================] - 1s - loss: 0.3639 - acc: 0.7880 - val_loss: 0.7884 - val_acc: 0.7400\n",
      "Epoch 16/50\n",
      "1099/1099 [==============================] - 1s - loss: 0.3640 - acc: 0.8162 - val_loss: 0.5308 - val_acc: 0.7300\n",
      "Epoch 17/50\n",
      "1099/1099 [==============================] - 1s - loss: 0.3410 - acc: 0.8189 - val_loss: 0.5867 - val_acc: 0.7200\n",
      "Epoch 18/50\n",
      "1099/1099 [==============================] - 1s - loss: 0.3418 - acc: 0.8335 - val_loss: 0.5946 - val_acc: 0.7200\n",
      "Epoch 19/50\n",
      "1099/1099 [==============================] - 1s - loss: 0.3393 - acc: 0.8353 - val_loss: 0.6901 - val_acc: 0.7200\n",
      "Epoch 20/50\n",
      "1099/1099 [==============================] - 1s - loss: 0.3318 - acc: 0.8235 - val_loss: 0.5797 - val_acc: 0.7300\n",
      "Epoch 21/50\n",
      "1099/1099 [==============================] - 1s - loss: 0.3351 - acc: 0.8289 - val_loss: 0.8325 - val_acc: 0.6900\n",
      "Epoch 22/50\n",
      "1099/1099 [==============================] - 1s - loss: 0.3376 - acc: 0.8289 - val_loss: 0.5903 - val_acc: 0.7400\n",
      "Epoch 23/50\n",
      "1099/1099 [==============================] - 1s - loss: 0.3690 - acc: 0.8080 - val_loss: 0.6599 - val_acc: 0.7200\n",
      "Epoch 24/50\n",
      "1099/1099 [==============================] - 1s - loss: 0.3305 - acc: 0.8162 - val_loss: 0.8199 - val_acc: 0.7500\n",
      "Epoch 25/50\n",
      "1099/1099 [==============================] - 1s - loss: 0.3413 - acc: 0.8271 - val_loss: 0.6658 - val_acc: 0.7200\n",
      "Epoch 26/50\n",
      "1099/1099 [==============================] - 1s - loss: 0.3197 - acc: 0.8444 - val_loss: 0.7248 - val_acc: 0.7300\n",
      "Epoch 27/50\n",
      "1099/1099 [==============================] - 1s - loss: 0.2584 - acc: 0.8744 - val_loss: 0.9867 - val_acc: 0.7000\n",
      "Epoch 28/50\n",
      "1099/1099 [==============================] - 1s - loss: 0.2914 - acc: 0.8526 - val_loss: 1.0565 - val_acc: 0.7400\n",
      "Epoch 29/50\n",
      "1099/1099 [==============================] - 1s - loss: 0.2908 - acc: 0.8626 - val_loss: 0.9050 - val_acc: 0.7100\n",
      "Epoch 30/50\n",
      "1099/1099 [==============================] - 1s - loss: 0.2586 - acc: 0.8726 - val_loss: 0.8198 - val_acc: 0.7200\n",
      "Epoch 31/50\n",
      "1099/1099 [==============================] - 1s - loss: 0.2650 - acc: 0.8781 - val_loss: 1.0117 - val_acc: 0.7200\n",
      "Epoch 32/50\n",
      "1099/1099 [==============================] - 1s - loss: 0.2609 - acc: 0.8781 - val_loss: 1.0402 - val_acc: 0.7300\n",
      "Epoch 33/50\n",
      "1099/1099 [==============================] - 1s - loss: 0.2641 - acc: 0.8826 - val_loss: 0.8618 - val_acc: 0.7100\n",
      "Epoch 34/50\n",
      "1099/1099 [==============================] - 1s - loss: 0.2956 - acc: 0.8544 - val_loss: 1.3007 - val_acc: 0.7100\n",
      "Epoch 35/50\n",
      "1099/1099 [==============================] - 1s - loss: 0.2883 - acc: 0.8681 - val_loss: 1.1120 - val_acc: 0.6800\n",
      "Epoch 36/50\n",
      "1099/1099 [==============================] - 1s - loss: 0.2857 - acc: 0.8562 - val_loss: 1.0010 - val_acc: 0.6900\n",
      "Epoch 37/50\n",
      "1099/1099 [==============================] - 1s - loss: 0.2707 - acc: 0.8735 - val_loss: 1.2636 - val_acc: 0.7100\n",
      "Epoch 38/50\n",
      "1099/1099 [==============================] - 1s - loss: 0.2677 - acc: 0.8635 - val_loss: 0.9666 - val_acc: 0.7200\n",
      "Epoch 39/50\n",
      "1099/1099 [==============================] - 1s - loss: 0.2666 - acc: 0.8653 - val_loss: 1.7309 - val_acc: 0.7000\n",
      "Epoch 40/50\n",
      "1099/1099 [==============================] - 1s - loss: 0.3202 - acc: 0.8353 - val_loss: 1.3124 - val_acc: 0.7100\n",
      "Epoch 41/50\n",
      "1099/1099 [==============================] - 1s - loss: 0.2780 - acc: 0.8626 - val_loss: 1.0864 - val_acc: 0.7000\n",
      "Epoch 42/50\n",
      "1099/1099 [==============================] - 1s - loss: 0.2402 - acc: 0.8790 - val_loss: 1.1074 - val_acc: 0.7200\n",
      "Epoch 43/50\n",
      "1099/1099 [==============================] - 1s - loss: 0.2451 - acc: 0.8844 - val_loss: 1.1991 - val_acc: 0.7000\n",
      "Epoch 44/50\n",
      "1099/1099 [==============================] - 1s - loss: 0.2684 - acc: 0.8790 - val_loss: 1.1857 - val_acc: 0.7500\n",
      "Epoch 45/50\n",
      "1099/1099 [==============================] - 1s - loss: 0.2535 - acc: 0.8772 - val_loss: 1.1776 - val_acc: 0.7200\n",
      "Epoch 46/50\n",
      "1099/1099 [==============================] - 1s - loss: 0.2615 - acc: 0.8799 - val_loss: 1.2857 - val_acc: 0.7300\n",
      "Epoch 47/50\n",
      "1099/1099 [==============================] - 1s - loss: 0.2508 - acc: 0.8817 - val_loss: 1.2794 - val_acc: 0.7200\n",
      "Epoch 48/50\n",
      "1099/1099 [==============================] - 1s - loss: 0.2561 - acc: 0.8790 - val_loss: 1.1499 - val_acc: 0.7500\n",
      "Epoch 49/50\n",
      "1099/1099 [==============================] - 1s - loss: 0.2263 - acc: 0.8990 - val_loss: 1.3653 - val_acc: 0.7000\n",
      "Epoch 50/50\n",
      "1099/1099 [==============================] - 1s - loss: 0.2505 - acc: 0.8881 - val_loss: 1.0865 - val_acc: 0.7200\n"
     ]
    },
    {
     "data": {
      "text/plain": [
       "<keras.callbacks.History at 0x146ba5ba8>"
      ]
     },
     "execution_count": 73,
     "metadata": {},
     "output_type": "execute_result"
    }
   ],
   "source": [
    "bn_model = Sequential()\n",
    "bn_model.add(Flatten(input_shape=train_probs.shape[1:]))\n",
    "\n",
    "bn_model.add(Dense(128, activation='relu'))\n",
    "bn_model.add(Dropout(0.5))\n",
    "\n",
    "bn_model.add(Dense(256, activation='relu'))\n",
    "bn_model.add(Dropout(0.5))\n",
    "\n",
    "bn_model.add(Dense(512, activation='relu'))\n",
    "bn_model.add(Dropout(0.5))\n",
    "\n",
    "bn_model.add(Dense(1, activation='sigmoid'))\n",
    "\n",
    "bn_model.compile(optimizer='adam',\n",
    "              loss='binary_crossentropy', metrics=['accuracy'])\n",
    "\n",
    "bn_model.fit(train_probs, train_gen.classes,\n",
    "          epochs=50,\n",
    "          batch_size=16,\n",
    "          validation_data=(valid_probs, valid_gen.classes))"
   ]
  },
  {
   "cell_type": "code",
   "execution_count": 79,
   "metadata": {
    "collapsed": false
   },
   "outputs": [],
   "source": [
    "# Discussion -- since they are both white older males, it's not clear that imagenet really picked up on any differences"
   ]
  },
  {
   "cell_type": "code",
   "execution_count": null,
   "metadata": {
    "collapsed": false
   },
   "outputs": [],
   "source": [
    "# what if we add more data?"
   ]
  },
  {
   "cell_type": "code",
   "execution_count": null,
   "metadata": {
    "collapsed": true
   },
   "outputs": [],
   "source": []
  },
  {
   "cell_type": "code",
   "execution_count": null,
   "metadata": {
    "collapsed": true
   },
   "outputs": [],
   "source": []
  }
 ],
 "metadata": {
  "anaconda-cloud": {},
  "kernelspec": {
   "display_name": "Python [conda root]",
   "language": "python",
   "name": "conda-root-py"
  },
  "language_info": {
   "codemirror_mode": {
    "name": "ipython",
    "version": 3
   },
   "file_extension": ".py",
   "mimetype": "text/x-python",
   "name": "python",
   "nbconvert_exporter": "python",
   "pygments_lexer": "ipython3",
   "version": "3.5.2"
  }
 },
 "nbformat": 4,
 "nbformat_minor": 1
}
