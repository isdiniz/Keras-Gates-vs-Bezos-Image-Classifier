{
 "cells": [
  {
   "cell_type": "code",
   "execution_count": 1,
   "metadata": {},
   "outputs": [
    {
     "name": "stderr",
     "output_type": "stream",
     "text": [
      "Using TensorFlow backend.\n",
      "C:\\Users\\jeffr\\AppData\\Local\\Continuum\\Anaconda3\\envs\\python3\\lib\\site-packages\\sklearn\\cross_validation.py:44: DeprecationWarning: This module was deprecated in version 0.18 in favor of the model_selection module into which all the refactored classes and functions are moved. Also note that the interface of the new CV iterators are different from that of this module. This module will be removed in 0.20.\n",
      "  \"This module will be removed in 0.20.\", DeprecationWarning)\n"
     ]
    }
   ],
   "source": [
    "from keras import applications\n",
    "# python image_scraper.py  \"yellow labrador retriever\" --count 500 --label labrador\n",
    "from keras.preprocessing.image import ImageDataGenerator\n",
    "from keras_tqdm import TQDMNotebookCallback\n",
    "\n",
    "\n",
    "from keras import optimizers\n",
    "from keras.models import Sequential, Model\n",
    "from keras.layers import (Dropout, Flatten, Dense, Conv2D, \n",
    "                          Activation, MaxPooling2D)\n",
    "\n",
    "from keras.applications.inception_v3 import InceptionV3\n",
    "from keras.layers import GlobalAveragePooling2D\n",
    "from keras import backend as K\n",
    "\n",
    "from sklearn.cross_validation import train_test_split\n",
    "\n",
    "import os, glob\n",
    "from tqdm import tqdm\n",
    "from collections import Counter\n",
    "import pandas as pd\n",
    "from sklearn.utils import shuffle\n",
    "import numpy as np\n",
    "import shutil"
   ]
  },
  {
   "cell_type": "code",
   "execution_count": 12,
   "metadata": {},
   "outputs": [
    {
     "name": "stdout",
     "output_type": "stream",
     "text": [
      "600\n",
      "596\n"
     ]
    },
    {
     "data": {
      "text/plain": [
       "[('collie', 600), ('labrador', 596)]"
      ]
     },
     "execution_count": 12,
     "metadata": {},
     "output_type": "execute_result"
    }
   ],
   "source": [
    "more_im = glob.glob(\"collie_lab/*/*.jpg\")\n",
    "more_im = shuffle(more_im)\n",
    "collie = [x for x in more_im if \"coll\" in x.split(\"\\\\\")[-2]]\n",
    "lab = [x for x in shuffle(more_im) if \"lab\" in x.split(\"\\\\\")[-2]]\n",
    "\n",
    "print(len(collie))\n",
    "print(len(lab))\n",
    "\n",
    "for_labeling = collie + lab\n",
    "for_labeling = shuffle(for_labeling)\n",
    "\n",
    "Counter([x.split(\"\\\\\")[-2] for x in more_im]).most_common()"
   ]
  },
  {
   "cell_type": "code",
   "execution_count": 18,
   "metadata": {},
   "outputs": [
    {
     "name": "stderr",
     "output_type": "stream",
     "text": [
      "A subdirectory or file collie_lab_train already exists.\n",
      "A subdirectory or file collie_lab_valid already exists.\n",
      "1196it [00:04, 244.83it/s]\n"
     ]
    }
   ],
   "source": [
    "import shutil\n",
    "from tqdm import tqdm\n",
    "\n",
    "%mkdir collie_lab_train\n",
    "%mkdir collie_lab_valid\n",
    "\n",
    "%mkdir collie_lab_train\\\\collie\n",
    "%mkdir collie_lab_train\\\\lab\n",
    "\n",
    "%mkdir collie_lab_valid\\\\collie\n",
    "%mkdir collie_lab_valid\\\\lab\n",
    "\n",
    "\n",
    "for index, image in tqdm(enumerate(for_labeling)):\n",
    "    \n",
    "    if index < 1000:\n",
    "        label = image.split(\"\\\\\")[-2]\n",
    "        image_name = image.split(\"\\\\\")[-1]\n",
    "        if \"coll\" in label:\n",
    "            shutil.copy(image, 'collie_lab_train\\\\collie\\\\{}'.format(image_name))\n",
    "        if \"lab\" in label:\n",
    "            shutil.copy(image, 'collie_lab_train\\\\lab\\\\{}'.format(image_name))\n",
    "            \n",
    "    if index > 1000:\n",
    "        label = image.split(\"\\\\\")[-2]\n",
    "        image_name = image.split(\"\\\\\")[-1]\n",
    "        if \"coll\" in label:\n",
    "            shutil.copy(image, 'collie_lab_valid\\\\collie\\\\{}'.format(image_name))\n",
    "        if \"lab\" in label:\n",
    "            shutil.copy(image, 'collie_lab_valid\\\\lab\\\\{}'.format(image_name))   "
   ]
  },
  {
   "cell_type": "code",
   "execution_count": 2,
   "metadata": {},
   "outputs": [
    {
     "name": "stdout",
     "output_type": "stream",
     "text": [
      "Found 1000 images belonging to 2 classes.\n",
      "Found 195 images belonging to 2 classes.\n"
     ]
    }
   ],
   "source": [
    "train_datagen = ImageDataGenerator(\n",
    "    rescale=1. / 255,\n",
    "    shear_range=0.2,\n",
    "    zoom_range=0.2,\n",
    "    horizontal_flip=False)\n",
    "\n",
    "\n",
    "test_datagen = ImageDataGenerator(rescale=1. / 255)\n",
    "\n",
    "train_generator = train_datagen.flow_from_directory(\n",
    "    'collie_lab_train/',\n",
    "    target_size=(150, 150),\n",
    "    batch_size=32,\n",
    "    shuffle=True,\n",
    "    class_mode='binary')\n",
    "\n",
    "validation_generator = test_datagen.flow_from_directory(\n",
    "    'collie_lab_valid/',\n",
    "    target_size=(150, 150),\n",
    "    batch_size=32,\n",
    "    class_mode='binary')"
   ]
  },
  {
   "cell_type": "code",
   "execution_count": 3,
   "metadata": {
    "collapsed": true
   },
   "outputs": [],
   "source": [
    "model = Sequential()\n",
    "\n",
    "model.add(Conv2D(32, (3, 3), input_shape=(150, 150, 3)))\n",
    "model.add(Activation('relu')) #tanh\n",
    "model.add(MaxPooling2D(pool_size=(2, 2)))\n",
    "model.add(Dropout(0.5))\n",
    "\n",
    "model.add(Conv2D(32, (3, 3)))\n",
    "model.add(Activation('relu')) #tanh\n",
    "model.add(MaxPooling2D(pool_size=(2, 2)))\n",
    "model.add(Dropout(0.5))\n",
    "\n",
    "model.add(Conv2D(64, (3, 3)))\n",
    "model.add(Activation('relu'))\n",
    "model.add(MaxPooling2D(pool_size=(2, 2)))\n",
    "model.add(Dropout(0.5))\n",
    "\n",
    "model.add(Flatten())\n",
    "model.add(Dense(96))\n",
    "model.add(Activation('relu'))\n",
    "model.add(Dropout(0.5))\n",
    "model.add(Dense(1)) # binary\n",
    "model.add(Activation('sigmoid'))\n",
    "\n",
    "model.compile(loss='binary_crossentropy',\n",
    "              optimizer='adam',\n",
    "              metrics=['accuracy'])"
   ]
  },
  {
   "cell_type": "code",
   "execution_count": null,
   "metadata": {
    "collapsed": true
   },
   "outputs": [],
   "source": [
    "model.fit_generator(\n",
    "    train_generator,\n",
    "    steps_per_epoch= 3000 // 32, # give me more data\n",
    "    epochs=30,\n",
    "    callbacks=[TQDMNotebookCallback()],\n",
    "    verbose=0,\n",
    "    validation_data=validation_generator,\n",
    "    validation_steps= 300 // 32)"
   ]
  }
 ],
 "metadata": {
  "kernelspec": {
   "display_name": "Python 3",
   "language": "python",
   "name": "python3"
  },
  "language_info": {
   "codemirror_mode": {
    "name": "ipython",
    "version": 3
   },
   "file_extension": ".py",
   "mimetype": "text/x-python",
   "name": "python",
   "nbconvert_exporter": "python",
   "pygments_lexer": "ipython3",
   "version": "3.5.2"
  }
 },
 "nbformat": 4,
 "nbformat_minor": 2
}
