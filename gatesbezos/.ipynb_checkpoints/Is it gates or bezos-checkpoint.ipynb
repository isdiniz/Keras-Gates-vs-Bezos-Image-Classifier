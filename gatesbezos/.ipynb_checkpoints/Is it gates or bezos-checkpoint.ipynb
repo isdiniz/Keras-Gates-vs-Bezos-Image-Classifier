{
 "cells": [
  {
   "cell_type": "code",
   "execution_count": null,
   "metadata": {
    "collapsed": false
   },
   "outputs": [],
   "source": [
    "from keras import applications\n",
    "\n",
    "from keras.preprocessing.image import ImageDataGenerator\n",
    "\n",
    "from keras import optimizers\n",
    "from keras.models import Sequential, Model\n",
    "from keras.layers import (Dropout, Flatten, Dense, Conv2D, \n",
    "                          Activation, MaxPooling2D)\n",
    "\n",
    "from sklearn.cross_validation import train_test_split\n",
    "\n",
    "import os, glob\n",
    "from tqdm import tqdm\n",
    "import pandas as pd\n",
    "from sklearn.utils import shuffle\n",
    "import numpy as np\n",
    "import shutil"
   ]
  },
  {
   "cell_type": "code",
   "execution_count": null,
   "metadata": {
    "collapsed": true
   },
   "outputs": [],
   "source": [
    "# dimensions of our images. label = bezos, gates 2 labels\n",
    "img_width, img_height = 128, 128\n",
    "\n",
    "train_data_dir = 'train_images/'\n",
    "validation_data_dir = 'valid_images'\n",
    "\n",
    "epochs = 50\n",
    "batch_size = 16"
   ]
  },
  {
   "cell_type": "code",
   "execution_count": null,
   "metadata": {
    "collapsed": false
   },
   "outputs": [],
   "source": [
    "# Find version of keras after 1.x MUCH diff from 2.x"
   ]
  },
  {
   "cell_type": "markdown",
   "metadata": {},
   "source": [
    "```bash\n",
    "Jeffreys-iMac:gates jeff$ mv `ls | head -50` /Users/jeff/experiments/valid_images/gates\n",
    "Jeffreys-iMac:gates jeff$ pwd\n",
    "/Users/jeff/experiments/train_images/gates\n",
    "\n",
    "Jeffreys-iMac:gates jeff$ ls /Users/jeff/experiments/valid_images/gates | wc -l\n",
    "      50```"
   ]
  },
  {
   "cell_type": "code",
   "execution_count": null,
   "metadata": {
    "collapsed": false
   },
   "outputs": [],
   "source": [
    "model = Sequential()\n",
    "\n",
    "model.add(Conv2D(32, (3, 3), input_shape=(128, 128, 3)))\n",
    "model.add(Activation('relu')) #tanh\n",
    "model.add(MaxPooling2D(pool_size=(2, 2)))\n",
    "model.add(Dropout(0.5))\n",
    "\n",
    "model.add(Conv2D(32, (3, 3)))\n",
    "model.add(Activation('relu')) #tanh\n",
    "model.add(MaxPooling2D(pool_size=(2, 2)))\n",
    "model.add(Dropout(0.5))\n",
    "\n",
    "model.add(Conv2D(64, (3, 3)))\n",
    "model.add(Activation('relu'))\n",
    "model.add(MaxPooling2D(pool_size=(2, 2)))\n",
    "model.add(Dropout(0.5))\n",
    "\n",
    "model.add(Flatten())\n",
    "model.add(Dense(96))\n",
    "model.add(Activation('relu'))\n",
    "model.add(Dropout(0.5))\n",
    "model.add(Dense(1)) # binary\n",
    "model.add(Activation('sigmoid'))\n",
    "\n",
    "model.compile(loss='binary_crossentropy',\n",
    "              optimizer='adam',\n",
    "              metrics=['accuracy'])\n",
    "# 10 types of ships: Dense(10) Activation 'softmax' loss categorical_crossentropy"
   ]
  },
  {
   "cell_type": "code",
   "execution_count": null,
   "metadata": {
    "collapsed": false
   },
   "outputs": [],
   "source": [
    "train_datagen = ImageDataGenerator(\n",
    "    rescale=1. / 255,\n",
    "    shear_range=0.2,\n",
    "    zoom_range=0.2,\n",
    "    horizontal_flip=False)\n",
    "\n",
    "# this is the augmentation configuration we will use for testing:\n",
    "# only rescaling\n",
    "test_datagen = ImageDataGenerator(rescale=1. / 255)\n",
    "\n",
    "train_generator = train_datagen.flow_from_directory(\n",
    "    train_data_dir,\n",
    "    target_size=(img_width, img_height),\n",
    "    batch_size=batch_size,\n",
    "    class_mode='binary')\n",
    "\n",
    "validation_generator = test_datagen.flow_from_directory(\n",
    "    validation_data_dir,\n",
    "    target_size=(img_width, img_height),\n",
    "    batch_size=batch_size,\n",
    "    class_mode='binary')\n",
    "# need not fit all yrou stuff in memory, like a bunch of numpy arrays or something"
   ]
  },
  {
   "cell_type": "code",
   "execution_count": null,
   "metadata": {
    "collapsed": false
   },
   "outputs": [],
   "source": [
    "model.fit_generator(\n",
    "    train_generator,\n",
    "    steps_per_epoch= 1250 // 16, # give me more data\n",
    "    epochs=50,\n",
    "    validation_data=validation_generator,\n",
    "    validation_steps=100 // 16)\n",
    "\n",
    "# bezoes, bezoes, bezoes = 50% of the time. \n",
    "# overfitting: get more data, augment eisting data.....\n",
    "# conv network: filters find attributes anywhere in the image, ignores \"where\" it found it -- anywhere"
   ]
  },
  {
   "cell_type": "code",
   "execution_count": null,
   "metadata": {
    "collapsed": false
   },
   "outputs": [],
   "source": [
    "# use a pretrained net for features\n",
    "# Generate some features \"features\" --> \n",
    "\n",
    "from keras.applications.vgg16 import VGG16\n",
    "from keras.preprocessing import image\n",
    "from keras.applications.vgg16 import preprocess_input"
   ]
  },
  {
   "cell_type": "code",
   "execution_count": null,
   "metadata": {
    "collapsed": true
   },
   "outputs": [],
   "source": [
    "model = VGG16(weights='imagenet', include_top=False)"
   ]
  },
  {
   "cell_type": "code",
   "execution_count": null,
   "metadata": {
    "collapsed": false
   },
   "outputs": [],
   "source": [
    "model.summary()"
   ]
  },
  {
   "cell_type": "code",
   "execution_count": null,
   "metadata": {
    "collapsed": true
   },
   "outputs": [],
   "source": []
  },
  {
   "cell_type": "code",
   "execution_count": null,
   "metadata": {
    "collapsed": false
   },
   "outputs": [],
   "source": [
    "# Should be (x,x,x,512d) vectors -- better than our 80ish% scratch convnet\n",
    "# First, did we really randomize our data properly, or did our validation set give us a boost\n",
    "\n",
    "import time\n",
    "\n",
    "start = time.time()\n",
    "\n",
    "train_gen = train_datagen.flow_from_directory(\n",
    "        'train_images/',\n",
    "        target_size=(128, 128),\n",
    "        batch_size=1,\n",
    "        class_mode=None,  # only data, no labels -- we're not trying to predict anything here\n",
    "        shuffle=False)  # keep data in same order as labels\n",
    "\n",
    "valid_gen = train_datagen.flow_from_directory(\n",
    "        'valid_images/',\n",
    "        target_size=(128, 128),\n",
    "        batch_size=1,\n",
    "        class_mode=None,  # only data, no labels -- we're not trying to predict anything here\n",
    "        shuffle=False)  # keep data in same order as labels\n",
    "\n",
    "train_probs = model.predict_generator(train_gen, 1099, workers=3, verbose=1)\n",
    "valid_probs = model.predict_generator(valid_gen, 100, workers=3, verbose=1)\n",
    "\n",
    "end = time.time()\n",
    "\n",
    "print(end - start)"
   ]
  },
  {
   "cell_type": "code",
   "execution_count": null,
   "metadata": {
    "collapsed": false
   },
   "outputs": [],
   "source": [
    "# MLP: since the 4x4x512d vector arguably is not a sequence, like text, audio, time series data\n",
    "# And it doesn't have higher dimensional features which exhibit spatial invarince...\n",
    "# The problem almost falls into the domain of traditional ML algorithms\n",
    "# If we want to use deep learning to convert these 512d vectors to a prediction, we can use a DNN\n",
    "# aka a multilayer perceptron\n",
    "\n",
    "# idea of a generator -- imagine you had to fine the count of the word \"dogged\" in 100 billion lines of text\n",
    "# the file is almost taking up your entire hard driver. You can use a generator to avoid reading the entire\n",
    "# thing into RAM, just process one line at a time, and only keep track of a object to count \"dogged\", etc...\n",
    "print(train_probs.shape)\n",
    "print(valid_probs.shape)\n",
    "\n",
    "print(train_gen.classes.shape)\n",
    "print(valid_gen.classes.shape)\n",
    "\n",
    "train_probs[0].ravel().shape #PCA that down SVM"
   ]
  },
  {
   "cell_type": "code",
   "execution_count": null,
   "metadata": {
    "collapsed": false
   },
   "outputs": [],
   "source": [
    "bn_model = Sequential()\n",
    "bn_model.add(Flatten(input_shape=train_probs.shape[1:]))\n",
    "\n",
    "bn_model.add(Dense(128, activation='relu'))\n",
    "bn_model.add(Dropout(0.5))\n",
    "\n",
    "bn_model.add(Dense(256, activation='relu'))\n",
    "bn_model.add(Dropout(0.5))\n",
    "\n",
    "bn_model.add(Dense(512, activation='relu'))\n",
    "bn_model.add(Dropout(0.5))\n",
    "\n",
    "bn_model.add(Dense(1, activation='sigmoid'))\n",
    "\n",
    "bn_model.compile(optimizer='adam',\n",
    "              loss='binary_crossentropy', metrics=['accuracy'])\n",
    "\n",
    "bn_model.fit(train_probs, train_gen.classes,\n",
    "          epochs=50,\n",
    "          batch_size=16,\n",
    "          validation_data=(valid_probs, valid_gen.classes), shuffle=True)"
   ]
  },
  {
   "cell_type": "code",
   "execution_count": null,
   "metadata": {
    "collapsed": false
   },
   "outputs": [],
   "source": [
    "# Discussion -- since they are both white older males, \n",
    "# it's not clear that imagenet really picked up on any differences\n",
    "# They are white/caucasion, they are over 50, affulent, wear nice clothing, tank top all the time"
   ]
  },
  {
   "cell_type": "code",
   "execution_count": 107,
   "metadata": {
    "collapsed": false
   },
   "outputs": [
    {
     "data": {
      "text/plain": [
       "[('gates_1k', 783), ('bezos_1k', 712)]"
      ]
     },
     "execution_count": 107,
     "metadata": {},
     "output_type": "execute_result"
    }
   ],
   "source": [
    "# what if we add more data? 500 600, 2000 85%, 80 85%\n",
    "# fine tuning --> \n",
    "# python searcher.py \"bill gates\" --count 1000 --label gates_1k and the same for bezos\n",
    "\n",
    "from collections import Counter\n",
    "\n",
    "more_im = glob.glob(\"/Users/jeff/experiments/images/*/*.jpg\")\n",
    "more_im = shuffle(more_im)\n",
    "\n",
    "Counter([x.split(\"/\")[-2] for x in more_im]).most_common()"
   ]
  },
  {
   "cell_type": "code",
   "execution_count": null,
   "metadata": {
    "collapsed": false
   },
   "outputs": [],
   "source": [
    "# For the additional images we downloaded\n",
    "%mkdir more_train\n",
    "%mkdir more_valid\n",
    "\n",
    "%mkdir more_train/gates\n",
    "%mkdir more_train/bezos\n",
    "\n",
    "%mkdir more_valid/gates\n",
    "%mkdir more_valid/bezos"
   ]
  },
  {
   "cell_type": "code",
   "execution_count": 141,
   "metadata": {
    "collapsed": false
   },
   "outputs": [
    {
     "name": "stdout",
     "output_type": "stream",
     "text": [
      "712\n",
      "712\n"
     ]
    },
    {
     "data": {
      "text/plain": [
       "'/Users/jeff/Documents/GitHub/Keras-Gates-vs-Bezos-Image-Classifier/gatesbezos'"
      ]
     },
     "execution_count": 141,
     "metadata": {},
     "output_type": "execute_result"
    }
   ],
   "source": [
    "bezos = [x for x in more_im if \"bezos\" in x.split(\"/\")[-2]]\n",
    "gates = [x for x in shuffle(more_im) if \"gates\" in x.split(\"/\")[-2]][:712]\n",
    "\n",
    "print(len(bezos))\n",
    "print(len(gates))\n",
    "\n",
    "for_labeling = bezos + gates\n",
    "for_labeling = shuffle(for_labeling)\n",
    "assert(len(for_labeling) == 1424) # Thrown if wrong\n",
    "\n",
    "%pwd"
   ]
  },
  {
   "cell_type": "code",
   "execution_count": 128,
   "metadata": {
    "collapsed": false
   },
   "outputs": [
    {
     "name": "stderr",
     "output_type": "stream",
     "text": [
      "\n",
      "0it [00:00, ?it/s]\u001b[A\n",
      "1424it [00:05, 238.39it/s]\n"
     ]
    }
   ],
   "source": [
    "# Gonna move the first 80% into more_train, the last 20% into more valid -- this is not elegant\n",
    "# but it should help you grok what's happening\n",
    "\n",
    "import shutil\n",
    "from tqdm import tqdm\n",
    "\n",
    "\n",
    "for index, image in tqdm(enumerate(for_labeling)):\n",
    "    \n",
    "    if index < 1139:\n",
    "        label = image.split(\"/\")[-2]\n",
    "        image_name = image.split(\"/\")[-1]\n",
    "        if \"gates\" in label:\n",
    "            shutil.copy(image, 'more_train/gates/{}'.format(image_name))\n",
    "        if \"bezos\" in label:\n",
    "            shutil.copy(image, 'more_train/bezos/{}'.format(image_name))\n",
    "            \n",
    "    if index > 1139:\n",
    "        label = image.split(\"/\")[-2]\n",
    "        image_name = image.split(\"/\")[-1]\n",
    "        if \"gates\" in label:\n",
    "            shutil.copy(image, 'more_valid/gates/{}'.format(image_name))\n",
    "        if \"bezos\" in label:\n",
    "            shutil.copy(image, 'more_valid/bezos/{}'.format(image_name))   "
   ]
  },
  {
   "cell_type": "code",
   "execution_count": 139,
   "metadata": {
    "collapsed": false
   },
   "outputs": [
    {
     "data": {
      "text/plain": [
       "144"
      ]
     },
     "execution_count": 139,
     "metadata": {},
     "output_type": "execute_result"
    }
   ],
   "source": [
    "len(os.listdir('more_valid/bezos'))"
   ]
  },
  {
   "cell_type": "code",
   "execution_count": 142,
   "metadata": {
    "collapsed": false
   },
   "outputs": [
    {
     "name": "stdout",
     "output_type": "stream",
     "text": [
      "Found 1139 images belonging to 2 classes.\n",
      "Found 284 images belonging to 2 classes.\n"
     ]
    }
   ],
   "source": [
    "# we're getting more data: we're usig a larger validation set\n",
    "# since gates and bezos are mentioned together SO OFTEN....I bet we actually pictures of the wrong \n",
    "# guy in each folder since they come up. \n",
    "\n",
    "\n",
    "train_datagen = ImageDataGenerator(\n",
    "    rescale=1. / 255,\n",
    "    shear_range=0.2,\n",
    "    zoom_range=0.2,\n",
    "    horizontal_flip=False)\n",
    "\n",
    "# this is the augmentation configuration we will use for testing:\n",
    "# only rescaling\n",
    "test_datagen = ImageDataGenerator(rescale=1. / 255)\n",
    "\n",
    "train_generator = train_datagen.flow_from_directory(\n",
    "    'more_train/',\n",
    "    target_size=(128, 128),\n",
    "    batch_size=16,\n",
    "    class_mode='binary')\n",
    "\n",
    "validation_generator = test_datagen.flow_from_directory(\n",
    "    'more_valid/',\n",
    "    target_size=(128, 128),\n",
    "    batch_size=16,\n",
    "    class_mode='binary')"
   ]
  },
  {
   "cell_type": "code",
   "execution_count": 143,
   "metadata": {
    "collapsed": false
   },
   "outputs": [],
   "source": [
    "model = Sequential()\n",
    "\n",
    "model.add(Conv2D(32, (3, 3), input_shape=(128, 128, 3)))\n",
    "model.add(Activation('relu')) #tanh\n",
    "model.add(MaxPooling2D(pool_size=(2, 2)))\n",
    "model.add(Dropout(0.5))\n",
    "\n",
    "model.add(Conv2D(32, (3, 3)))\n",
    "model.add(Activation('relu')) #tanh\n",
    "model.add(MaxPooling2D(pool_size=(2, 2)))\n",
    "model.add(Dropout(0.5))\n",
    "\n",
    "model.add(Conv2D(64, (3, 3)))\n",
    "model.add(Activation('relu'))\n",
    "model.add(MaxPooling2D(pool_size=(2, 2)))\n",
    "model.add(Dropout(0.5))\n",
    "\n",
    "model.add(Flatten())\n",
    "model.add(Dense(96))\n",
    "model.add(Activation('relu'))\n",
    "model.add(Dropout(0.5))\n",
    "model.add(Dense(1)) # binary\n",
    "model.add(Activation('sigmoid'))\n",
    "\n",
    "model.compile(loss='binary_crossentropy',\n",
    "              optimizer='adam',\n",
    "              metrics=['accuracy'])"
   ]
  },
  {
   "cell_type": "code",
   "execution_count": 145,
   "metadata": {
    "collapsed": false
   },
   "outputs": [
    {
     "name": "stdout",
     "output_type": "stream",
     "text": [
      "Epoch 1/10\n",
      "71/71 [==============================] - 21s - loss: 0.6130 - acc: 0.6520 - val_loss: 0.6872 - val_acc: 0.5560\n",
      "Epoch 2/10\n",
      "71/71 [==============================] - 21s - loss: 0.5904 - acc: 0.6802 - val_loss: 0.6821 - val_acc: 0.5746\n",
      "Epoch 3/10\n",
      "71/71 [==============================] - 24s - loss: 0.5935 - acc: 0.6694 - val_loss: 0.6833 - val_acc: 0.6119\n",
      "Epoch 4/10\n",
      "71/71 [==============================] - 23s - loss: 0.5880 - acc: 0.6890 - val_loss: 0.6924 - val_acc: 0.5896\n",
      "Epoch 5/10\n",
      "71/71 [==============================] - 23s - loss: 0.5643 - acc: 0.6980 - val_loss: 0.6527 - val_acc: 0.6381\n",
      "Epoch 6/10\n",
      "71/71 [==============================] - 22s - loss: 0.5844 - acc: 0.6984 - val_loss: 0.6784 - val_acc: 0.6082\n",
      "Epoch 7/10\n",
      "71/71 [==============================] - 23s - loss: 0.5662 - acc: 0.7101 - val_loss: 0.7174 - val_acc: 0.5746\n",
      "Epoch 8/10\n",
      "66/71 [==========================>...] - ETA: 1s - loss: 0.5621 - acc: 0.7169"
     ]
    },
    {
     "ename": "KeyboardInterrupt",
     "evalue": "",
     "output_type": "error",
     "traceback": [
      "\u001b[0;31m---------------------------------------------------------------------------\u001b[0m",
      "\u001b[0;31mKeyboardInterrupt\u001b[0m                         Traceback (most recent call last)",
      "\u001b[0;32m<ipython-input-145-b828bfeffc0e>\u001b[0m in \u001b[0;36m<module>\u001b[0;34m()\u001b[0m\n\u001b[1;32m      4\u001b[0m     \u001b[0mepochs\u001b[0m\u001b[0;34m=\u001b[0m\u001b[0;36m10\u001b[0m\u001b[0;34m,\u001b[0m\u001b[0;34m\u001b[0m\u001b[0m\n\u001b[1;32m      5\u001b[0m     \u001b[0mvalidation_data\u001b[0m\u001b[0;34m=\u001b[0m\u001b[0mvalidation_generator\u001b[0m\u001b[0;34m,\u001b[0m\u001b[0;34m\u001b[0m\u001b[0m\n\u001b[0;32m----> 6\u001b[0;31m     validation_steps= 284 // 16)\n\u001b[0m",
      "\u001b[0;32m/Users/jeff/anaconda/lib/python3.5/site-packages/keras/legacy/interfaces.py\u001b[0m in \u001b[0;36mwrapper\u001b[0;34m(*args, **kwargs)\u001b[0m\n\u001b[1;32m     86\u001b[0m                 warnings.warn('Update your `' + object_name +\n\u001b[1;32m     87\u001b[0m                               '` call to the Keras 2 API: ' + signature, stacklevel=2)\n\u001b[0;32m---> 88\u001b[0;31m             \u001b[0;32mreturn\u001b[0m \u001b[0mfunc\u001b[0m\u001b[0;34m(\u001b[0m\u001b[0;34m*\u001b[0m\u001b[0margs\u001b[0m\u001b[0;34m,\u001b[0m \u001b[0;34m**\u001b[0m\u001b[0mkwargs\u001b[0m\u001b[0;34m)\u001b[0m\u001b[0;34m\u001b[0m\u001b[0m\n\u001b[0m\u001b[1;32m     89\u001b[0m         \u001b[0mwrapper\u001b[0m\u001b[0;34m.\u001b[0m\u001b[0m_legacy_support_signature\u001b[0m \u001b[0;34m=\u001b[0m \u001b[0minspect\u001b[0m\u001b[0;34m.\u001b[0m\u001b[0mgetargspec\u001b[0m\u001b[0;34m(\u001b[0m\u001b[0mfunc\u001b[0m\u001b[0;34m)\u001b[0m\u001b[0;34m\u001b[0m\u001b[0m\n\u001b[1;32m     90\u001b[0m         \u001b[0;32mreturn\u001b[0m \u001b[0mwrapper\u001b[0m\u001b[0;34m\u001b[0m\u001b[0m\n",
      "\u001b[0;32m/Users/jeff/anaconda/lib/python3.5/site-packages/keras/models.py\u001b[0m in \u001b[0;36mfit_generator\u001b[0;34m(self, generator, steps_per_epoch, epochs, verbose, callbacks, validation_data, validation_steps, class_weight, max_q_size, workers, pickle_safe, initial_epoch)\u001b[0m\n\u001b[1;32m   1095\u001b[0m                                         \u001b[0mworkers\u001b[0m\u001b[0;34m=\u001b[0m\u001b[0mworkers\u001b[0m\u001b[0;34m,\u001b[0m\u001b[0;34m\u001b[0m\u001b[0m\n\u001b[1;32m   1096\u001b[0m                                         \u001b[0mpickle_safe\u001b[0m\u001b[0;34m=\u001b[0m\u001b[0mpickle_safe\u001b[0m\u001b[0;34m,\u001b[0m\u001b[0;34m\u001b[0m\u001b[0m\n\u001b[0;32m-> 1097\u001b[0;31m                                         initial_epoch=initial_epoch)\n\u001b[0m\u001b[1;32m   1098\u001b[0m \u001b[0;34m\u001b[0m\u001b[0m\n\u001b[1;32m   1099\u001b[0m     \u001b[0;34m@\u001b[0m\u001b[0minterfaces\u001b[0m\u001b[0;34m.\u001b[0m\u001b[0mlegacy_generator_methods_support\u001b[0m\u001b[0;34m\u001b[0m\u001b[0m\n",
      "\u001b[0;32m/Users/jeff/anaconda/lib/python3.5/site-packages/keras/legacy/interfaces.py\u001b[0m in \u001b[0;36mwrapper\u001b[0;34m(*args, **kwargs)\u001b[0m\n\u001b[1;32m     86\u001b[0m                 warnings.warn('Update your `' + object_name +\n\u001b[1;32m     87\u001b[0m                               '` call to the Keras 2 API: ' + signature, stacklevel=2)\n\u001b[0;32m---> 88\u001b[0;31m             \u001b[0;32mreturn\u001b[0m \u001b[0mfunc\u001b[0m\u001b[0;34m(\u001b[0m\u001b[0;34m*\u001b[0m\u001b[0margs\u001b[0m\u001b[0;34m,\u001b[0m \u001b[0;34m**\u001b[0m\u001b[0mkwargs\u001b[0m\u001b[0;34m)\u001b[0m\u001b[0;34m\u001b[0m\u001b[0m\n\u001b[0m\u001b[1;32m     89\u001b[0m         \u001b[0mwrapper\u001b[0m\u001b[0;34m.\u001b[0m\u001b[0m_legacy_support_signature\u001b[0m \u001b[0;34m=\u001b[0m \u001b[0minspect\u001b[0m\u001b[0;34m.\u001b[0m\u001b[0mgetargspec\u001b[0m\u001b[0;34m(\u001b[0m\u001b[0mfunc\u001b[0m\u001b[0;34m)\u001b[0m\u001b[0;34m\u001b[0m\u001b[0m\n\u001b[1;32m     90\u001b[0m         \u001b[0;32mreturn\u001b[0m \u001b[0mwrapper\u001b[0m\u001b[0;34m\u001b[0m\u001b[0m\n",
      "\u001b[0;32m/Users/jeff/anaconda/lib/python3.5/site-packages/keras/engine/training.py\u001b[0m in \u001b[0;36mfit_generator\u001b[0;34m(self, generator, steps_per_epoch, epochs, verbose, callbacks, validation_data, validation_steps, class_weight, max_q_size, workers, pickle_safe, initial_epoch)\u001b[0m\n\u001b[1;32m   1874\u001b[0m                     outs = self.train_on_batch(x, y,\n\u001b[1;32m   1875\u001b[0m                                                \u001b[0msample_weight\u001b[0m\u001b[0;34m=\u001b[0m\u001b[0msample_weight\u001b[0m\u001b[0;34m,\u001b[0m\u001b[0;34m\u001b[0m\u001b[0m\n\u001b[0;32m-> 1876\u001b[0;31m                                                class_weight=class_weight)\n\u001b[0m\u001b[1;32m   1877\u001b[0m \u001b[0;34m\u001b[0m\u001b[0m\n\u001b[1;32m   1878\u001b[0m                     \u001b[0;32mif\u001b[0m \u001b[0;32mnot\u001b[0m \u001b[0misinstance\u001b[0m\u001b[0;34m(\u001b[0m\u001b[0mouts\u001b[0m\u001b[0;34m,\u001b[0m \u001b[0mlist\u001b[0m\u001b[0;34m)\u001b[0m\u001b[0;34m:\u001b[0m\u001b[0;34m\u001b[0m\u001b[0m\n",
      "\u001b[0;32m/Users/jeff/anaconda/lib/python3.5/site-packages/keras/engine/training.py\u001b[0m in \u001b[0;36mtrain_on_batch\u001b[0;34m(self, x, y, sample_weight, class_weight)\u001b[0m\n\u001b[1;32m   1618\u001b[0m             \u001b[0mins\u001b[0m \u001b[0;34m=\u001b[0m \u001b[0mx\u001b[0m \u001b[0;34m+\u001b[0m \u001b[0my\u001b[0m \u001b[0;34m+\u001b[0m \u001b[0msample_weights\u001b[0m\u001b[0;34m\u001b[0m\u001b[0m\n\u001b[1;32m   1619\u001b[0m         \u001b[0mself\u001b[0m\u001b[0;34m.\u001b[0m\u001b[0m_make_train_function\u001b[0m\u001b[0;34m(\u001b[0m\u001b[0;34m)\u001b[0m\u001b[0;34m\u001b[0m\u001b[0m\n\u001b[0;32m-> 1620\u001b[0;31m         \u001b[0moutputs\u001b[0m \u001b[0;34m=\u001b[0m \u001b[0mself\u001b[0m\u001b[0;34m.\u001b[0m\u001b[0mtrain_function\u001b[0m\u001b[0;34m(\u001b[0m\u001b[0mins\u001b[0m\u001b[0;34m)\u001b[0m\u001b[0;34m\u001b[0m\u001b[0m\n\u001b[0m\u001b[1;32m   1621\u001b[0m         \u001b[0;32mif\u001b[0m \u001b[0mlen\u001b[0m\u001b[0;34m(\u001b[0m\u001b[0moutputs\u001b[0m\u001b[0;34m)\u001b[0m \u001b[0;34m==\u001b[0m \u001b[0;36m1\u001b[0m\u001b[0;34m:\u001b[0m\u001b[0;34m\u001b[0m\u001b[0m\n\u001b[1;32m   1622\u001b[0m             \u001b[0;32mreturn\u001b[0m \u001b[0moutputs\u001b[0m\u001b[0;34m[\u001b[0m\u001b[0;36m0\u001b[0m\u001b[0;34m]\u001b[0m\u001b[0;34m\u001b[0m\u001b[0m\n",
      "\u001b[0;32m/Users/jeff/anaconda/lib/python3.5/site-packages/keras/backend/tensorflow_backend.py\u001b[0m in \u001b[0;36m__call__\u001b[0;34m(self, inputs)\u001b[0m\n\u001b[1;32m   2071\u001b[0m         \u001b[0msession\u001b[0m \u001b[0;34m=\u001b[0m \u001b[0mget_session\u001b[0m\u001b[0;34m(\u001b[0m\u001b[0;34m)\u001b[0m\u001b[0;34m\u001b[0m\u001b[0m\n\u001b[1;32m   2072\u001b[0m         updated = session.run(self.outputs + [self.updates_op],\n\u001b[0;32m-> 2073\u001b[0;31m                               feed_dict=feed_dict)\n\u001b[0m\u001b[1;32m   2074\u001b[0m         \u001b[0;32mreturn\u001b[0m \u001b[0mupdated\u001b[0m\u001b[0;34m[\u001b[0m\u001b[0;34m:\u001b[0m\u001b[0mlen\u001b[0m\u001b[0;34m(\u001b[0m\u001b[0mself\u001b[0m\u001b[0;34m.\u001b[0m\u001b[0moutputs\u001b[0m\u001b[0;34m)\u001b[0m\u001b[0;34m]\u001b[0m\u001b[0;34m\u001b[0m\u001b[0m\n\u001b[1;32m   2075\u001b[0m \u001b[0;34m\u001b[0m\u001b[0m\n",
      "\u001b[0;32m/Users/jeff/anaconda/lib/python3.5/site-packages/tensorflow/python/client/session.py\u001b[0m in \u001b[0;36mrun\u001b[0;34m(self, fetches, feed_dict, options, run_metadata)\u001b[0m\n\u001b[1;32m    787\u001b[0m     \u001b[0;32mtry\u001b[0m\u001b[0;34m:\u001b[0m\u001b[0;34m\u001b[0m\u001b[0m\n\u001b[1;32m    788\u001b[0m       result = self._run(None, fetches, feed_dict, options_ptr,\n\u001b[0;32m--> 789\u001b[0;31m                          run_metadata_ptr)\n\u001b[0m\u001b[1;32m    790\u001b[0m       \u001b[0;32mif\u001b[0m \u001b[0mrun_metadata\u001b[0m\u001b[0;34m:\u001b[0m\u001b[0;34m\u001b[0m\u001b[0m\n\u001b[1;32m    791\u001b[0m         \u001b[0mproto_data\u001b[0m \u001b[0;34m=\u001b[0m \u001b[0mtf_session\u001b[0m\u001b[0;34m.\u001b[0m\u001b[0mTF_GetBuffer\u001b[0m\u001b[0;34m(\u001b[0m\u001b[0mrun_metadata_ptr\u001b[0m\u001b[0;34m)\u001b[0m\u001b[0;34m\u001b[0m\u001b[0m\n",
      "\u001b[0;32m/Users/jeff/anaconda/lib/python3.5/site-packages/tensorflow/python/client/session.py\u001b[0m in \u001b[0;36m_run\u001b[0;34m(self, handle, fetches, feed_dict, options, run_metadata)\u001b[0m\n\u001b[1;32m    995\u001b[0m     \u001b[0;32mif\u001b[0m \u001b[0mfinal_fetches\u001b[0m \u001b[0;32mor\u001b[0m \u001b[0mfinal_targets\u001b[0m\u001b[0;34m:\u001b[0m\u001b[0;34m\u001b[0m\u001b[0m\n\u001b[1;32m    996\u001b[0m       results = self._do_run(handle, final_targets, final_fetches,\n\u001b[0;32m--> 997\u001b[0;31m                              feed_dict_string, options, run_metadata)\n\u001b[0m\u001b[1;32m    998\u001b[0m     \u001b[0;32melse\u001b[0m\u001b[0;34m:\u001b[0m\u001b[0;34m\u001b[0m\u001b[0m\n\u001b[1;32m    999\u001b[0m       \u001b[0mresults\u001b[0m \u001b[0;34m=\u001b[0m \u001b[0;34m[\u001b[0m\u001b[0;34m]\u001b[0m\u001b[0;34m\u001b[0m\u001b[0m\n",
      "\u001b[0;32m/Users/jeff/anaconda/lib/python3.5/site-packages/tensorflow/python/client/session.py\u001b[0m in \u001b[0;36m_do_run\u001b[0;34m(self, handle, target_list, fetch_list, feed_dict, options, run_metadata)\u001b[0m\n\u001b[1;32m   1130\u001b[0m     \u001b[0;32mif\u001b[0m \u001b[0mhandle\u001b[0m \u001b[0;32mis\u001b[0m \u001b[0;32mNone\u001b[0m\u001b[0;34m:\u001b[0m\u001b[0;34m\u001b[0m\u001b[0m\n\u001b[1;32m   1131\u001b[0m       return self._do_call(_run_fn, self._session, feed_dict, fetch_list,\n\u001b[0;32m-> 1132\u001b[0;31m                            target_list, options, run_metadata)\n\u001b[0m\u001b[1;32m   1133\u001b[0m     \u001b[0;32melse\u001b[0m\u001b[0;34m:\u001b[0m\u001b[0;34m\u001b[0m\u001b[0m\n\u001b[1;32m   1134\u001b[0m       return self._do_call(_prun_fn, self._session, handle, feed_dict,\n",
      "\u001b[0;32m/Users/jeff/anaconda/lib/python3.5/site-packages/tensorflow/python/client/session.py\u001b[0m in \u001b[0;36m_do_call\u001b[0;34m(self, fn, *args)\u001b[0m\n\u001b[1;32m   1137\u001b[0m   \u001b[0;32mdef\u001b[0m \u001b[0m_do_call\u001b[0m\u001b[0;34m(\u001b[0m\u001b[0mself\u001b[0m\u001b[0;34m,\u001b[0m \u001b[0mfn\u001b[0m\u001b[0;34m,\u001b[0m \u001b[0;34m*\u001b[0m\u001b[0margs\u001b[0m\u001b[0;34m)\u001b[0m\u001b[0;34m:\u001b[0m\u001b[0;34m\u001b[0m\u001b[0m\n\u001b[1;32m   1138\u001b[0m     \u001b[0;32mtry\u001b[0m\u001b[0;34m:\u001b[0m\u001b[0;34m\u001b[0m\u001b[0m\n\u001b[0;32m-> 1139\u001b[0;31m       \u001b[0;32mreturn\u001b[0m \u001b[0mfn\u001b[0m\u001b[0;34m(\u001b[0m\u001b[0;34m*\u001b[0m\u001b[0margs\u001b[0m\u001b[0;34m)\u001b[0m\u001b[0;34m\u001b[0m\u001b[0m\n\u001b[0m\u001b[1;32m   1140\u001b[0m     \u001b[0;32mexcept\u001b[0m \u001b[0merrors\u001b[0m\u001b[0;34m.\u001b[0m\u001b[0mOpError\u001b[0m \u001b[0;32mas\u001b[0m \u001b[0me\u001b[0m\u001b[0;34m:\u001b[0m\u001b[0;34m\u001b[0m\u001b[0m\n\u001b[1;32m   1141\u001b[0m       \u001b[0mmessage\u001b[0m \u001b[0;34m=\u001b[0m \u001b[0mcompat\u001b[0m\u001b[0;34m.\u001b[0m\u001b[0mas_text\u001b[0m\u001b[0;34m(\u001b[0m\u001b[0me\u001b[0m\u001b[0;34m.\u001b[0m\u001b[0mmessage\u001b[0m\u001b[0;34m)\u001b[0m\u001b[0;34m\u001b[0m\u001b[0m\n",
      "\u001b[0;32m/Users/jeff/anaconda/lib/python3.5/site-packages/tensorflow/python/client/session.py\u001b[0m in \u001b[0;36m_run_fn\u001b[0;34m(session, feed_dict, fetch_list, target_list, options, run_metadata)\u001b[0m\n\u001b[1;32m   1119\u001b[0m         return tf_session.TF_Run(session, options,\n\u001b[1;32m   1120\u001b[0m                                  \u001b[0mfeed_dict\u001b[0m\u001b[0;34m,\u001b[0m \u001b[0mfetch_list\u001b[0m\u001b[0;34m,\u001b[0m \u001b[0mtarget_list\u001b[0m\u001b[0;34m,\u001b[0m\u001b[0;34m\u001b[0m\u001b[0m\n\u001b[0;32m-> 1121\u001b[0;31m                                  status, run_metadata)\n\u001b[0m\u001b[1;32m   1122\u001b[0m \u001b[0;34m\u001b[0m\u001b[0m\n\u001b[1;32m   1123\u001b[0m     \u001b[0;32mdef\u001b[0m \u001b[0m_prun_fn\u001b[0m\u001b[0;34m(\u001b[0m\u001b[0msession\u001b[0m\u001b[0;34m,\u001b[0m \u001b[0mhandle\u001b[0m\u001b[0;34m,\u001b[0m \u001b[0mfeed_dict\u001b[0m\u001b[0;34m,\u001b[0m \u001b[0mfetch_list\u001b[0m\u001b[0;34m)\u001b[0m\u001b[0;34m:\u001b[0m\u001b[0;34m\u001b[0m\u001b[0m\n",
      "\u001b[0;31mKeyboardInterrupt\u001b[0m: "
     ]
    }
   ],
   "source": [
    "model.fit_generator(\n",
    "    train_generator,\n",
    "    steps_per_epoch= 1139 // 16, # give me more data\n",
    "    epochs=10,\n",
    "    validation_data=validation_generator,\n",
    "    validation_steps= 284 // 16)"
   ]
  },
  {
   "cell_type": "code",
   "execution_count": null,
   "metadata": {
    "collapsed": false
   },
   "outputs": [],
   "source": []
  },
  {
   "cell_type": "code",
   "execution_count": 170,
   "metadata": {
    "collapsed": false
   },
   "outputs": [
    {
     "name": "stdout",
     "output_type": "stream",
     "text": [
      "Found 1099 images belonging to 2 classes.\n",
      "Found 100 images belonging to 2 classes.\n",
      "Epoch 1/50\n",
      "125/125 [==============================] - 42s - loss: 0.7022 - acc: 0.5258 - val_loss: 0.6831 - val_acc: 0.5682\n",
      "Epoch 2/50\n",
      "125/125 [==============================] - 41s - loss: 0.6741 - acc: 0.5914 - val_loss: 0.6896 - val_acc: 0.4924\n",
      "Epoch 3/50\n",
      "125/125 [==============================] - 40s - loss: 0.6510 - acc: 0.6147 - val_loss: 0.6437 - val_acc: 0.6310\n",
      "Epoch 4/50\n",
      "125/125 [==============================] - 40s - loss: 0.6378 - acc: 0.6563 - val_loss: 0.6789 - val_acc: 0.5278\n",
      "Epoch 5/50\n",
      "125/125 [==============================] - 39s - loss: 0.6208 - acc: 0.6568 - val_loss: 0.6536 - val_acc: 0.6553\n",
      "Epoch 6/50\n",
      "125/125 [==============================] - 40s - loss: 0.5930 - acc: 0.6955 - val_loss: 0.6652 - val_acc: 0.5675\n",
      "Epoch 7/50\n",
      "125/125 [==============================] - 41s - loss: 0.5849 - acc: 0.6896 - val_loss: 0.5956 - val_acc: 0.7103\n",
      "Epoch 8/50\n",
      "125/125 [==============================] - 39s - loss: 0.5566 - acc: 0.7127 - val_loss: 0.6197 - val_acc: 0.6136\n",
      "Epoch 9/50\n",
      "125/125 [==============================] - 39s - loss: 0.5665 - acc: 0.7119 - val_loss: 0.6033 - val_acc: 0.6905\n",
      "Epoch 10/50\n",
      "125/125 [==============================] - 41s - loss: 0.5428 - acc: 0.7279 - val_loss: 0.6573 - val_acc: 0.5595\n",
      "Epoch 11/50\n",
      "125/125 [==============================] - 42s - loss: 0.5297 - acc: 0.7333 - val_loss: 0.6095 - val_acc: 0.6587\n",
      "Epoch 12/50\n",
      "125/125 [==============================] - 38s - loss: 0.5127 - acc: 0.7506 - val_loss: 0.6342 - val_acc: 0.6212\n",
      "Epoch 13/50\n",
      "125/125 [==============================] - 38s - loss: 0.4919 - acc: 0.7569 - val_loss: 0.5626 - val_acc: 0.7143\n",
      "Epoch 14/50\n",
      "125/125 [==============================] - 38s - loss: 0.4777 - acc: 0.7634 - val_loss: 0.5436 - val_acc: 0.7302\n",
      "Epoch 15/50\n",
      "125/125 [==============================] - 38s - loss: 0.4652 - acc: 0.7704 - val_loss: 0.5341 - val_acc: 0.7024\n",
      "Epoch 16/50\n",
      "125/125 [==============================] - 38s - loss: 0.4660 - acc: 0.7698 - val_loss: 0.5268 - val_acc: 0.6786\n",
      "Epoch 17/50\n",
      "125/125 [==============================] - 39s - loss: 0.4396 - acc: 0.7866 - val_loss: 0.5542 - val_acc: 0.6780\n",
      "Epoch 18/50\n",
      "125/125 [==============================] - 37s - loss: 0.4184 - acc: 0.8112 - val_loss: 0.5878 - val_acc: 0.6349\n",
      "Epoch 19/50\n",
      "125/125 [==============================] - 37s - loss: 0.4100 - acc: 0.8118 - val_loss: 0.5422 - val_acc: 0.7183\n",
      "Epoch 20/50\n",
      "125/125 [==============================] - 36s - loss: 0.3825 - acc: 0.8256 - val_loss: 0.5634 - val_acc: 0.7143\n",
      "Epoch 21/50\n",
      "125/125 [==============================] - 36s - loss: 0.3755 - acc: 0.8314 - val_loss: 0.5527 - val_acc: 0.6591\n",
      "Epoch 22/50\n",
      "125/125 [==============================] - 36s - loss: 0.3796 - acc: 0.8215 - val_loss: 0.5595 - val_acc: 0.6856\n",
      "Epoch 23/50\n",
      "125/125 [==============================] - 36s - loss: 0.3562 - acc: 0.8243 - val_loss: 0.5728 - val_acc: 0.7538\n",
      "Epoch 24/50\n",
      "125/125 [==============================] - 36s - loss: 0.3295 - acc: 0.8455 - val_loss: 0.5688 - val_acc: 0.6984\n",
      "Epoch 25/50\n",
      "125/125 [==============================] - 36s - loss: 0.3190 - acc: 0.8523 - val_loss: 0.5085 - val_acc: 0.7302\n",
      "Epoch 26/50\n",
      "125/125 [==============================] - 36s - loss: 0.3495 - acc: 0.8496 - val_loss: 0.5032 - val_acc: 0.7024\n",
      "Epoch 27/50\n",
      "125/125 [==============================] - 36s - loss: 0.3306 - acc: 0.8635 - val_loss: 0.4800 - val_acc: 0.7341\n",
      "Epoch 28/50\n",
      "125/125 [==============================] - 36s - loss: 0.3238 - acc: 0.8643 - val_loss: 0.5996 - val_acc: 0.7460\n",
      "Epoch 29/50\n",
      "125/125 [==============================] - 36s - loss: 0.3156 - acc: 0.8648 - val_loss: 0.5713 - val_acc: 0.7183\n",
      "Epoch 30/50\n",
      "125/125 [==============================] - 36s - loss: 0.2847 - acc: 0.8715 - val_loss: 0.5368 - val_acc: 0.7183\n",
      "Epoch 31/50\n",
      "125/125 [==============================] - 36s - loss: 0.2853 - acc: 0.8775 - val_loss: 0.5130 - val_acc: 0.7698\n",
      "Epoch 32/50\n",
      "125/125 [==============================] - 36s - loss: 0.2665 - acc: 0.8803 - val_loss: 0.5263 - val_acc: 0.7500\n",
      "Epoch 33/50\n",
      "125/125 [==============================] - 36s - loss: 0.2896 - acc: 0.8830 - val_loss: 0.5771 - val_acc: 0.7386\n",
      "Epoch 34/50\n",
      "125/125 [==============================] - 36s - loss: 0.2752 - acc: 0.8793 - val_loss: 0.6225 - val_acc: 0.7348\n",
      "Epoch 35/50\n",
      "125/125 [==============================] - 36s - loss: 0.2669 - acc: 0.8855 - val_loss: 0.5833 - val_acc: 0.7462\n",
      "Epoch 36/50\n",
      "125/125 [==============================] - 36s - loss: 0.2631 - acc: 0.8856 - val_loss: 0.7000 - val_acc: 0.6970\n",
      "Epoch 37/50\n",
      "125/125 [==============================] - 36s - loss: 0.2694 - acc: 0.8863 - val_loss: 0.6308 - val_acc: 0.7235\n",
      "Epoch 38/50\n",
      "125/125 [==============================] - 36s - loss: 0.2489 - acc: 0.8953 - val_loss: 0.6432 - val_acc: 0.6905\n",
      "Epoch 39/50\n",
      "125/125 [==============================] - 36s - loss: 0.2269 - acc: 0.9085 - val_loss: 0.6554 - val_acc: 0.7183\n",
      "Epoch 40/50\n",
      "125/125 [==============================] - 36s - loss: 0.2352 - acc: 0.9009 - val_loss: 0.5534 - val_acc: 0.7937\n",
      "Epoch 41/50\n",
      "125/125 [==============================] - 36s - loss: 0.2247 - acc: 0.9080 - val_loss: 0.6298 - val_acc: 0.7576\n",
      "Epoch 42/50\n",
      "125/125 [==============================] - 36s - loss: 0.2109 - acc: 0.9086 - val_loss: 0.6082 - val_acc: 0.7159\n",
      "Epoch 43/50\n",
      "125/125 [==============================] - 37s - loss: 0.2186 - acc: 0.9055 - val_loss: 0.6002 - val_acc: 0.7183\n",
      "Epoch 44/50\n",
      "125/125 [==============================] - 36s - loss: 0.2101 - acc: 0.9138 - val_loss: 0.6428 - val_acc: 0.7500\n",
      "Epoch 45/50\n",
      "125/125 [==============================] - 36s - loss: 0.2316 - acc: 0.9073 - val_loss: 0.6776 - val_acc: 0.7538\n",
      "Epoch 46/50\n",
      "125/125 [==============================] - 40s - loss: 0.2129 - acc: 0.9138 - val_loss: 0.6963 - val_acc: 0.7500\n",
      "Epoch 47/50\n",
      "125/125 [==============================] - 39s - loss: 0.1988 - acc: 0.9178 - val_loss: 0.7168 - val_acc: 0.6865\n",
      "Epoch 48/50\n",
      "125/125 [==============================] - 37s - loss: 0.2299 - acc: 0.9028 - val_loss: 0.5296 - val_acc: 0.7421\n",
      "Epoch 49/50\n",
      "125/125 [==============================] - 36s - loss: 0.2070 - acc: 0.9238 - val_loss: 0.5326 - val_acc: 0.7273\n",
      "Epoch 50/50\n",
      "125/125 [==============================] - 36s - loss: 0.1832 - acc: 0.9208 - val_loss: 0.6159 - val_acc: 0.7540\n"
     ]
    },
    {
     "data": {
      "text/plain": [
       "<keras.callbacks.History at 0x15e769e80>"
      ]
     },
     "execution_count": 170,
     "metadata": {},
     "output_type": "execute_result"
    }
   ],
   "source": [
    "train_datagen = ImageDataGenerator(\n",
    "    rescale=1. / 255,\n",
    "    shear_range=0.2,\n",
    "    zoom_range=0.2,\n",
    "    horizontal_flip=False)\n",
    "\n",
    "# this is the augmentation configuration we will use for testing:\n",
    "# only rescaling\n",
    "test_datagen = ImageDataGenerator(rescale=1. / 255)\n",
    "\n",
    "train_generator = train_datagen.flow_from_directory(\n",
    "    'train_images/',\n",
    "    target_size=(128, 128),\n",
    "    batch_size=16,\n",
    "    class_mode='binary', shuffle=True)\n",
    "\n",
    "validation_generator = test_datagen.flow_from_directory(\n",
    "    'valid_images/',\n",
    "    target_size=(128, 128),\n",
    "    batch_size=16,\n",
    "    class_mode='binary', shuffle=False)\n",
    "\n",
    "model = Sequential()\n",
    "\n",
    "model.add(Conv2D(32, (3, 3), input_shape=(128, 128, 3)))\n",
    "model.add(Activation('relu')) #tanh\n",
    "model.add(MaxPooling2D(pool_size=(2, 2)))\n",
    "model.add(Dropout(0.5))\n",
    "\n",
    "model.add(Conv2D(32, (3, 3)))\n",
    "model.add(Activation('relu')) #tanh\n",
    "model.add(MaxPooling2D(pool_size=(2, 2)))\n",
    "model.add(Dropout(0.5))\n",
    "\n",
    "model.add(Conv2D(64, (3, 3)))\n",
    "model.add(Activation('relu'))\n",
    "model.add(MaxPooling2D(pool_size=(2, 2)))\n",
    "model.add(Dropout(0.5))\n",
    "\n",
    "model.add(Flatten())\n",
    "model.add(Dense(96))\n",
    "model.add(Activation('relu'))\n",
    "model.add(Dropout(0.5))\n",
    "model.add(Dense(1)) # binary\n",
    "model.add(Activation('sigmoid'))\n",
    "\n",
    "model.compile(loss='binary_crossentropy',\n",
    "              optimizer='adam',\n",
    "              metrics=['accuracy'])\n",
    "\n",
    "model.fit_generator(\n",
    "    train_generator,\n",
    "    steps_per_epoch= 2000 // 16, # give me more data\n",
    "    epochs=50, # This will be \n",
    "    validation_data=validation_generator,\n",
    "    validation_steps= 300 // 16)"
   ]
  },
  {
   "cell_type": "code",
   "execution_count": null,
   "metadata": {
    "collapsed": false
   },
   "outputs": [],
   "source": [
    "# Then try without shuffling\n",
    "# Try validation_generator.class_indices and validation_generator.classes. pprint it and see how its useful to you."
   ]
  },
  {
   "cell_type": "code",
   "execution_count": null,
   "metadata": {
    "collapsed": false
   },
   "outputs": [],
   "source": []
  },
  {
   "cell_type": "code",
   "execution_count": null,
   "metadata": {
    "collapsed": true
   },
   "outputs": [],
   "source": []
  }
 ],
 "metadata": {
  "anaconda-cloud": {},
  "kernelspec": {
   "display_name": "Python [conda root]",
   "language": "python",
   "name": "conda-root-py"
  },
  "language_info": {
   "codemirror_mode": {
    "name": "ipython",
    "version": 3
   },
   "file_extension": ".py",
   "mimetype": "text/x-python",
   "name": "python",
   "nbconvert_exporter": "python",
   "pygments_lexer": "ipython3",
   "version": "3.5.2"
  }
 },
 "nbformat": 4,
 "nbformat_minor": 1
}
